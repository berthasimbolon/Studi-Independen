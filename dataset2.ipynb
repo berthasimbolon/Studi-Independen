{
  "nbformat": 4,
  "nbformat_minor": 0,
  "metadata": {
    "colab": {
      "name": "dataset2",
      "provenance": [],
      "authorship_tag": "ABX9TyP2bWajy8P5eMIrKXMgLPvW",
      "include_colab_link": true
    },
    "kernelspec": {
      "name": "python3",
      "display_name": "Python 3"
    },
    "language_info": {
      "name": "python"
    }
  },
  "cells": [
    {
      "cell_type": "markdown",
      "metadata": {
        "id": "view-in-github",
        "colab_type": "text"
      },
      "source": [
        "<a href=\"https://colab.research.google.com/github/berthasimbolon/Studi-Independen/blob/main/dataset2.ipynb\" target=\"_parent\"><img src=\"https://colab.research.google.com/assets/colab-badge.svg\" alt=\"Open In Colab\"/></a>"
      ]
    },
    {
      "cell_type": "code",
      "metadata": {
        "id": "TPbyagpEiJdt"
      },
      "source": [
        "import numpy as np\n",
        "import pandas as pd\n",
        "import matplotlib.pyplot as plt\n",
        "import seaborn as sns\n",
        "%matplotlib inline\n",
        "\n",
        "import os\n",
        "for dirname, _, filenames in os.walk('https://raw.githubusercontent.com/berthasimbolon/Studi-Independen/main/Dataset/dataset2.csv'):\n",
        "  for filename in filenames:\n",
        "      print(os.path.join(dirname, filename))"
      ],
      "execution_count": 39,
      "outputs": []
    },
    {
      "cell_type": "code",
      "metadata": {
        "colab": {
          "base_uri": "https://localhost:8080/"
        },
        "id": "UoX0RmdSuVWd",
        "outputId": "0a2811b6-626c-4590-905c-c5395302bd17"
      },
      "source": [
        "!wget -O dataset2.csv https://raw.githubusercontent.com/berthasimbolon/Studi-Independen/main/Dataset/dataset2.csv"
      ],
      "execution_count": 40,
      "outputs": [
        {
          "output_type": "stream",
          "name": "stdout",
          "text": [
            "--2021-10-11 12:52:55--  https://raw.githubusercontent.com/berthasimbolon/Studi-Independen/main/Dataset/dataset2.csv\n",
            "Resolving raw.githubusercontent.com (raw.githubusercontent.com)... 185.199.110.133, 185.199.108.133, 185.199.111.133, ...\n",
            "Connecting to raw.githubusercontent.com (raw.githubusercontent.com)|185.199.110.133|:443... connected.\n",
            "HTTP request sent, awaiting response... 200 OK\n",
            "Length: 6361 (6.2K) [text/plain]\n",
            "Saving to: ‘dataset2.csv’\n",
            "\n",
            "\rdataset2.csv          0%[                    ]       0  --.-KB/s               \rdataset2.csv        100%[===================>]   6.21K  --.-KB/s    in 0s      \n",
            "\n",
            "2021-10-11 12:52:55 (60.6 MB/s) - ‘dataset2.csv’ saved [6361/6361]\n",
            "\n"
          ]
        }
      ]
    },
    {
      "cell_type": "code",
      "metadata": {
        "id": "6LFXVX5xi3Ih"
      },
      "source": [
        "import warnings\n",
        "warnings.filterwarnings('ignore')"
      ],
      "execution_count": 41,
      "outputs": []
    },
    {
      "cell_type": "code",
      "metadata": {
        "colab": {
          "base_uri": "https://localhost:8080/",
          "height": 424
        },
        "id": "0kinrrUejOWf",
        "outputId": "39f8cd23-af57-4d73-87b5-a23f7311342d"
      },
      "source": [
        "df = 'dataset2.csv'\n",
        "df = pd.read_csv('dataset2.csv', encoding = 'unicode_escape')\n",
        "df"
      ],
      "execution_count": 42,
      "outputs": [
        {
          "output_type": "execute_result",
          "data": {
            "text/html": [
              "<div>\n",
              "<style scoped>\n",
              "    .dataframe tbody tr th:only-of-type {\n",
              "        vertical-align: middle;\n",
              "    }\n",
              "\n",
              "    .dataframe tbody tr th {\n",
              "        vertical-align: top;\n",
              "    }\n",
              "\n",
              "    .dataframe thead th {\n",
              "        text-align: right;\n",
              "    }\n",
              "</style>\n",
              "<table border=\"1\" class=\"dataframe\">\n",
              "  <thead>\n",
              "    <tr style=\"text-align: right;\">\n",
              "      <th></th>\n",
              "      <th>wilayah_kota</th>\n",
              "      <th>nama</th>\n",
              "      <th>masakan_1</th>\n",
              "      <th>masakan_2</th>\n",
              "      <th>waktu_buka</th>\n",
              "      <th>waktu_tutup</th>\n",
              "    </tr>\n",
              "  </thead>\n",
              "  <tbody>\n",
              "    <tr>\n",
              "      <th>0</th>\n",
              "      <td>Jakarta Pusat</td>\n",
              "      <td>Bakso Malang Umiyeh</td>\n",
              "      <td>Bakso Malang</td>\n",
              "      <td>Mie Ayam Bakso</td>\n",
              "      <td>8:00</td>\n",
              "      <td>22:00</td>\n",
              "    </tr>\n",
              "    <tr>\n",
              "      <th>1</th>\n",
              "      <td>Jakarta Pusat</td>\n",
              "      <td>Soto Tangkar Bang Haji</td>\n",
              "      <td>Soto Tangkar</td>\n",
              "      <td>Nasi Kebuli</td>\n",
              "      <td>8:00</td>\n",
              "      <td>19:00</td>\n",
              "    </tr>\n",
              "    <tr>\n",
              "      <th>2</th>\n",
              "      <td>Jakarta Pusat</td>\n",
              "      <td>Ketupat Sayur Warung Nurul</td>\n",
              "      <td>Ketupat Sayur</td>\n",
              "      <td>Mie Ayam Bakso</td>\n",
              "      <td>8:00</td>\n",
              "      <td>19:00</td>\n",
              "    </tr>\n",
              "    <tr>\n",
              "      <th>3</th>\n",
              "      <td>Jakarta Pusat</td>\n",
              "      <td>Nasi Rawon Saputra</td>\n",
              "      <td>Nasi Rawon</td>\n",
              "      <td>Soto Ayam</td>\n",
              "      <td>8:00</td>\n",
              "      <td>16:00</td>\n",
              "    </tr>\n",
              "    <tr>\n",
              "      <th>4</th>\n",
              "      <td>Jakarta Pusat</td>\n",
              "      <td>Bubur Sukabumi Anugrah</td>\n",
              "      <td>Bubur</td>\n",
              "      <td>Ayam Penyet</td>\n",
              "      <td>7:00</td>\n",
              "      <td>18:00</td>\n",
              "    </tr>\n",
              "    <tr>\n",
              "      <th>...</th>\n",
              "      <td>...</td>\n",
              "      <td>...</td>\n",
              "      <td>...</td>\n",
              "      <td>...</td>\n",
              "      <td>...</td>\n",
              "      <td>...</td>\n",
              "    </tr>\n",
              "    <tr>\n",
              "      <th>80</th>\n",
              "      <td>Jakarta Pusat</td>\n",
              "      <td>Ketupat Sayur Samsul Arifin</td>\n",
              "      <td>Ketupat Sayur</td>\n",
              "      <td>Gado-Gado</td>\n",
              "      <td>7:00</td>\n",
              "      <td>21:00</td>\n",
              "    </tr>\n",
              "    <tr>\n",
              "      <th>81</th>\n",
              "      <td>Jakarta Pusat</td>\n",
              "      <td>Soto Lamongan Ibu Romlah</td>\n",
              "      <td>Soto Ayam</td>\n",
              "      <td>Soto Ayam</td>\n",
              "      <td>7:00</td>\n",
              "      <td>21:00</td>\n",
              "    </tr>\n",
              "    <tr>\n",
              "      <th>82</th>\n",
              "      <td>Jakarta Pusat</td>\n",
              "      <td>Nasi Timbel Stepel</td>\n",
              "      <td>Nasi Timbel</td>\n",
              "      <td>Nasi Timbel</td>\n",
              "      <td>7:00</td>\n",
              "      <td>21:00</td>\n",
              "    </tr>\n",
              "    <tr>\n",
              "      <th>83</th>\n",
              "      <td>Jakarta Pusat</td>\n",
              "      <td>Soto Kudus</td>\n",
              "      <td>Soto Ayam</td>\n",
              "      <td>Soto Ayam</td>\n",
              "      <td>7:00</td>\n",
              "      <td>21:00</td>\n",
              "    </tr>\n",
              "    <tr>\n",
              "      <th>84</th>\n",
              "      <td>Jakarta Pusat</td>\n",
              "      <td>Sop Buntut Cut Mutia/Ibu Rugayah</td>\n",
              "      <td>Sop Buntut Kukus</td>\n",
              "      <td>Sop Buntut Bakar</td>\n",
              "      <td>7:00</td>\n",
              "      <td>21:00</td>\n",
              "    </tr>\n",
              "  </tbody>\n",
              "</table>\n",
              "<p>85 rows × 6 columns</p>\n",
              "</div>"
            ],
            "text/plain": [
              "     wilayah_kota                              nama  ... waktu_buka waktu_tutup\n",
              "0   Jakarta Pusat               Bakso Malang Umiyeh  ...       8:00       22:00\n",
              "1   Jakarta Pusat            Soto Tangkar Bang Haji  ...       8:00       19:00\n",
              "2   Jakarta Pusat        Ketupat Sayur Warung Nurul  ...       8:00       19:00\n",
              "3   Jakarta Pusat                Nasi Rawon Saputra  ...       8:00       16:00\n",
              "4   Jakarta Pusat            Bubur Sukabumi Anugrah  ...       7:00       18:00\n",
              "..            ...                               ...  ...        ...         ...\n",
              "80  Jakarta Pusat       Ketupat Sayur Samsul Arifin  ...       7:00       21:00\n",
              "81  Jakarta Pusat          Soto Lamongan Ibu Romlah  ...       7:00       21:00\n",
              "82  Jakarta Pusat                Nasi Timbel Stepel  ...       7:00       21:00\n",
              "83  Jakarta Pusat                        Soto Kudus  ...       7:00       21:00\n",
              "84  Jakarta Pusat  Sop Buntut Cut Mutia/Ibu Rugayah  ...       7:00       21:00\n",
              "\n",
              "[85 rows x 6 columns]"
            ]
          },
          "metadata": {},
          "execution_count": 42
        }
      ]
    },
    {
      "cell_type": "code",
      "metadata": {
        "id": "1xO7xjvsjrXG",
        "colab": {
          "base_uri": "https://localhost:8080/"
        },
        "outputId": "65250032-421f-4523-9bee-e54900ded35b"
      },
      "source": [
        "df.shape"
      ],
      "execution_count": 43,
      "outputs": [
        {
          "output_type": "execute_result",
          "data": {
            "text/plain": [
              "(85, 6)"
            ]
          },
          "metadata": {},
          "execution_count": 43
        }
      ]
    },
    {
      "cell_type": "code",
      "metadata": {
        "id": "ffxFx0T8jvza",
        "colab": {
          "base_uri": "https://localhost:8080/",
          "height": 206
        },
        "outputId": "c8a541f4-5c70-4037-b7ac-2d6aea86661c"
      },
      "source": [
        "df.head()"
      ],
      "execution_count": 44,
      "outputs": [
        {
          "output_type": "execute_result",
          "data": {
            "text/html": [
              "<div>\n",
              "<style scoped>\n",
              "    .dataframe tbody tr th:only-of-type {\n",
              "        vertical-align: middle;\n",
              "    }\n",
              "\n",
              "    .dataframe tbody tr th {\n",
              "        vertical-align: top;\n",
              "    }\n",
              "\n",
              "    .dataframe thead th {\n",
              "        text-align: right;\n",
              "    }\n",
              "</style>\n",
              "<table border=\"1\" class=\"dataframe\">\n",
              "  <thead>\n",
              "    <tr style=\"text-align: right;\">\n",
              "      <th></th>\n",
              "      <th>wilayah_kota</th>\n",
              "      <th>nama</th>\n",
              "      <th>masakan_1</th>\n",
              "      <th>masakan_2</th>\n",
              "      <th>waktu_buka</th>\n",
              "      <th>waktu_tutup</th>\n",
              "    </tr>\n",
              "  </thead>\n",
              "  <tbody>\n",
              "    <tr>\n",
              "      <th>0</th>\n",
              "      <td>Jakarta Pusat</td>\n",
              "      <td>Bakso Malang Umiyeh</td>\n",
              "      <td>Bakso Malang</td>\n",
              "      <td>Mie Ayam Bakso</td>\n",
              "      <td>8:00</td>\n",
              "      <td>22:00</td>\n",
              "    </tr>\n",
              "    <tr>\n",
              "      <th>1</th>\n",
              "      <td>Jakarta Pusat</td>\n",
              "      <td>Soto Tangkar Bang Haji</td>\n",
              "      <td>Soto Tangkar</td>\n",
              "      <td>Nasi Kebuli</td>\n",
              "      <td>8:00</td>\n",
              "      <td>19:00</td>\n",
              "    </tr>\n",
              "    <tr>\n",
              "      <th>2</th>\n",
              "      <td>Jakarta Pusat</td>\n",
              "      <td>Ketupat Sayur Warung Nurul</td>\n",
              "      <td>Ketupat Sayur</td>\n",
              "      <td>Mie Ayam Bakso</td>\n",
              "      <td>8:00</td>\n",
              "      <td>19:00</td>\n",
              "    </tr>\n",
              "    <tr>\n",
              "      <th>3</th>\n",
              "      <td>Jakarta Pusat</td>\n",
              "      <td>Nasi Rawon Saputra</td>\n",
              "      <td>Nasi Rawon</td>\n",
              "      <td>Soto Ayam</td>\n",
              "      <td>8:00</td>\n",
              "      <td>16:00</td>\n",
              "    </tr>\n",
              "    <tr>\n",
              "      <th>4</th>\n",
              "      <td>Jakarta Pusat</td>\n",
              "      <td>Bubur Sukabumi Anugrah</td>\n",
              "      <td>Bubur</td>\n",
              "      <td>Ayam Penyet</td>\n",
              "      <td>7:00</td>\n",
              "      <td>18:00</td>\n",
              "    </tr>\n",
              "  </tbody>\n",
              "</table>\n",
              "</div>"
            ],
            "text/plain": [
              "    wilayah_kota                        nama  ... waktu_buka waktu_tutup\n",
              "0  Jakarta Pusat         Bakso Malang Umiyeh  ...       8:00       22:00\n",
              "1  Jakarta Pusat      Soto Tangkar Bang Haji  ...       8:00       19:00\n",
              "2  Jakarta Pusat  Ketupat Sayur Warung Nurul  ...       8:00       19:00\n",
              "3  Jakarta Pusat          Nasi Rawon Saputra  ...       8:00       16:00\n",
              "4  Jakarta Pusat      Bubur Sukabumi Anugrah  ...       7:00       18:00\n",
              "\n",
              "[5 rows x 6 columns]"
            ]
          },
          "metadata": {},
          "execution_count": 44
        }
      ]
    },
    {
      "cell_type": "code",
      "metadata": {
        "id": "ttD9ycJmjyRg",
        "colab": {
          "base_uri": "https://localhost:8080/"
        },
        "outputId": "496bb374-11f4-43ca-fb07-026ad10860f0"
      },
      "source": [
        "df.info()"
      ],
      "execution_count": 45,
      "outputs": [
        {
          "output_type": "stream",
          "name": "stdout",
          "text": [
            "<class 'pandas.core.frame.DataFrame'>\n",
            "RangeIndex: 85 entries, 0 to 84\n",
            "Data columns (total 6 columns):\n",
            " #   Column        Non-Null Count  Dtype \n",
            "---  ------        --------------  ----- \n",
            " 0   wilayah_kota  85 non-null     object\n",
            " 1   nama          85 non-null     object\n",
            " 2   masakan_1     85 non-null     object\n",
            " 3   masakan_2     85 non-null     object\n",
            " 4   waktu_buka    85 non-null     object\n",
            " 5   waktu_tutup   85 non-null     object\n",
            "dtypes: object(6)\n",
            "memory usage: 4.1+ KB\n"
          ]
        }
      ]
    },
    {
      "cell_type": "code",
      "metadata": {
        "colab": {
          "base_uri": "https://localhost:8080/",
          "height": 280
        },
        "id": "N6YCst4xzFeW",
        "outputId": "1f94bee7-d268-46be-d533-5f3f0cd098b7"
      },
      "source": [
        "buka = df['waktu_buka']\n",
        "\n",
        "sns.countplot(\"waktu_buka\", data=df)\n",
        "plt.show()"
      ],
      "execution_count": 46,
      "outputs": [
        {
          "output_type": "display_data",
          "data": {
            "image/png": "[encoded data removed]",
            "text/plain": [
              "<Figure size 432x288 with 1 Axes>"
            ]
          },
          "metadata": {
            "needs_background": "light"
          }
        }
      ]
    },
    {
      "cell_type": "code",
      "metadata": {
        "colab": {
          "base_uri": "https://localhost:8080/",
          "height": 280
        },
        "id": "JEpVXBMOzUMm",
        "outputId": "a3a04855-c7ae-486d-8d6a-d04722ac47b8"
      },
      "source": [
        "tutup = df['waktu_tutup']\n",
        "\n",
        "sns.countplot(\"waktu_tutup\", data=df)\n",
        "plt.show()"
      ],
      "execution_count": 47,
      "outputs": [
        {
          "output_type": "display_data",
          "data": {
            "image/png": "[encoded data removed]",
            "text/plain": [
              "<Figure size 432x288 with 1 Axes>"
            ]
          },
          "metadata": {
            "needs_background": "light"
          }
        }
      ]
    },
    {
      "cell_type": "code",
      "metadata": {
        "id": "DEEDg5jUj1XT",
        "colab": {
          "base_uri": "https://localhost:8080/"
        },
        "outputId": "428f7e1b-d1a6-4e02-8f9d-884d228faa28"
      },
      "source": [
        "df.isnull().sum()"
      ],
      "execution_count": 48,
      "outputs": [
        {
          "output_type": "execute_result",
          "data": {
            "text/plain": [
              "wilayah_kota    0\n",
              "nama            0\n",
              "masakan_1       0\n",
              "masakan_2       0\n",
              "waktu_buka      0\n",
              "waktu_tutup     0\n",
              "dtype: int64"
            ]
          },
          "metadata": {},
          "execution_count": 48
        }
      ]
    },
    {
      "cell_type": "code",
      "metadata": {
        "id": "wZNl56t0j5H5",
        "colab": {
          "base_uri": "https://localhost:8080/",
          "height": 174
        },
        "outputId": "47405269-5c99-4127-d27a-8812b07ddbc5"
      },
      "source": [
        "df.describe()"
      ],
      "execution_count": 49,
      "outputs": [
        {
          "output_type": "execute_result",
          "data": {
            "text/html": [
              "<div>\n",
              "<style scoped>\n",
              "    .dataframe tbody tr th:only-of-type {\n",
              "        vertical-align: middle;\n",
              "    }\n",
              "\n",
              "    .dataframe tbody tr th {\n",
              "        vertical-align: top;\n",
              "    }\n",
              "\n",
              "    .dataframe thead th {\n",
              "        text-align: right;\n",
              "    }\n",
              "</style>\n",
              "<table border=\"1\" class=\"dataframe\">\n",
              "  <thead>\n",
              "    <tr style=\"text-align: right;\">\n",
              "      <th></th>\n",
              "      <th>wilayah_kota</th>\n",
              "      <th>nama</th>\n",
              "      <th>masakan_1</th>\n",
              "      <th>masakan_2</th>\n",
              "      <th>waktu_buka</th>\n",
              "      <th>waktu_tutup</th>\n",
              "    </tr>\n",
              "  </thead>\n",
              "  <tbody>\n",
              "    <tr>\n",
              "      <th>count</th>\n",
              "      <td>85</td>\n",
              "      <td>85</td>\n",
              "      <td>85</td>\n",
              "      <td>85</td>\n",
              "      <td>85</td>\n",
              "      <td>85</td>\n",
              "    </tr>\n",
              "    <tr>\n",
              "      <th>unique</th>\n",
              "      <td>1</td>\n",
              "      <td>85</td>\n",
              "      <td>53</td>\n",
              "      <td>46</td>\n",
              "      <td>7</td>\n",
              "      <td>9</td>\n",
              "    </tr>\n",
              "    <tr>\n",
              "      <th>top</th>\n",
              "      <td>Jakarta Pusat</td>\n",
              "      <td>Batagor &amp; Siomay Jasur</td>\n",
              "      <td>Mie Ayam Bakso</td>\n",
              "      <td>Mie Ayam Bakso</td>\n",
              "      <td>8:00</td>\n",
              "      <td>15:00</td>\n",
              "    </tr>\n",
              "    <tr>\n",
              "      <th>freq</th>\n",
              "      <td>85</td>\n",
              "      <td>1</td>\n",
              "      <td>7</td>\n",
              "      <td>8</td>\n",
              "      <td>60</td>\n",
              "      <td>51</td>\n",
              "    </tr>\n",
              "  </tbody>\n",
              "</table>\n",
              "</div>"
            ],
            "text/plain": [
              "         wilayah_kota                    nama  ... waktu_buka waktu_tutup\n",
              "count              85                      85  ...         85          85\n",
              "unique              1                      85  ...          7           9\n",
              "top     Jakarta Pusat  Batagor & Siomay Jasur  ...       8:00       15:00\n",
              "freq               85                       1  ...         60          51\n",
              "\n",
              "[4 rows x 6 columns]"
            ]
          },
          "metadata": {},
          "execution_count": 49
        }
      ]
    },
    {
      "cell_type": "code",
      "metadata": {
        "colab": {
          "base_uri": "https://localhost:8080/"
        },
        "id": "aU5JdLWEvFOj",
        "outputId": "4a8fce26-1cb2-404d-bffc-e7f4eb8ad569"
      },
      "source": [
        "df['nama'].unique()"
      ],
      "execution_count": 50,
      "outputs": [
        {
          "output_type": "execute_result",
          "data": {
            "text/plain": [
              "array(['Bakso Malang Umiyeh', 'Soto Tangkar Bang Haji',\n",
              "       'Ketupat Sayur Warung Nurul', 'Nasi Rawon Saputra',\n",
              "       'Bubur Sukabumi Anugrah', 'Kwetiaw Sapi Ibu Iin',\n",
              "       'Ayam Kremes Ibu Sukini', 'Pecel Bebek Madura',\n",
              "       'Mie Ayam Jakarta Bu Raihan', 'Mie Godog Bapak Fina',\n",
              "       'Soto Ayam Surabaya Talenta Rasa', 'Nasi Goreng Alif',\n",
              "       'Nasi Rames Betawi Bu Ririn', 'Gulai Kambing & Mie Ayam Bakso',\n",
              "       'Pecel Lele Pak Madari', 'Nasi Goreng Sudi Mampir',\n",
              "       'Mie Godog Cita Rasa', 'Sate Padang Asli Minang',\n",
              "       'Ayam Betutu Sri Rejeki', 'Soto Medan Sabang Merauke',\n",
              "       'Brongkos Daging Pak Makin', 'Bakso Lenggang Jakarta',\n",
              "       'Sop Kambing Tegal Bahari', 'Ketupat Sayur Betawi Pak Rudi',\n",
              "       'Soto Betawi Sabar Menunggu', 'Nasi Goreng Pak Kumis',\n",
              "       'Batagor & Siomay Jasur', 'Nasi Rawon Pari Dewi',\n",
              "       'Mie Ayam Kocok Bandung', 'Ayam Kalasan Pak Berlin',\n",
              "       'Soto Mie Warung Efensi', 'Tongseng Saliwah Kuliner',\n",
              "       'Empal Gentong Firdaus', 'Ayam Taliwang Monas',\n",
              "       'Ketoprak Pak Wakib', 'Pecel Lele & Ayam Warung Lamongan',\n",
              "       'Mie Ayam Slamet 99', 'Soto Pekalongan Ibu Tiara',\n",
              "       'Pecel Madiun Ibu Marnil', 'Soto Lamongan Warung Lamongan',\n",
              "       'Soto Tangkar One Monas', 'Sate Madura Ibu Marsini',\n",
              "       'Bakso Malang Fitri', 'Nasi Goreng Gila', 'Ayam Bakar Bu Marwah',\n",
              "       'Nasi Goreng Wiga Widya Astuti', 'Ayam Bakar Uni Gadis',\n",
              "       'Ayam Goreng Sumidah', 'Mie Aceh Lindo', 'Lontong Loge Madura',\n",
              "       'Bakso Solo H. Alim', 'Nasi Timbel Ikan Citra',\n",
              "       'Elok Saiyo Masakan Padang', 'Selat Solo Upin Ipin',\n",
              "       'Bakso Solo Kata Mutiara', 'Pecel Lele Ayam Masakan Jatim',\n",
              "       'Soto Betawi Klawing The Mai', 'Bakso Pak Haji Kurdi',\n",
              "       'Nasi Goreng Munaworoh', 'Nasi Pindang Ibu Ani', 'Gudeg Gayatri',\n",
              "       'Nasi Timbel Ayam Goreng', 'Ayam Goreng Warung Lamongan',\n",
              "       'Soto Bogor Bu Yanti', 'Mie Ayam Bakso Jakarta',\n",
              "       'Sate Padang Pak Andi', \"Nasi Pecel Madiun Bu To'\",\n",
              "       'Gado-Gado Ibu Asbiyah', 'Mie Ayam Pak Satori', 'Sate Madura Pote',\n",
              "       'Bakso Malang Horrlima', 'Sop Kambing Anugerah',\n",
              "       'Mie Ayam Bakso Putri', 'Gado-Gado Pak Madrae',\n",
              "       'Pecel Bebek Ibu Maisarah', 'Mie Ayam Jakarta Ibu Fatimah',\n",
              "       'Soto Lamongan Ibu Markisam', 'Nasi Timbel Komplit',\n",
              "       'Nasi Goreng Abadi', 'Mie Godog \"Pak Hermanto\"',\n",
              "       'Ketupat Sayur Samsul Arifin', 'Soto Lamongan Ibu Romlah',\n",
              "       'Nasi Timbel Stepel', 'Soto Kudus',\n",
              "       'Sop Buntut Cut Mutia/Ibu Rugayah'], dtype=object)"
            ]
          },
          "metadata": {},
          "execution_count": 50
        }
      ]
    },
    {
      "cell_type": "code",
      "metadata": {
        "colab": {
          "base_uri": "https://localhost:8080/"
        },
        "id": "dhSjF6k7vQG4",
        "outputId": "5f622969-e546-4068-d146-c19c533fc5f3"
      },
      "source": [
        "len(df['nama'].unique())"
      ],
      "execution_count": 51,
      "outputs": [
        {
          "output_type": "execute_result",
          "data": {
            "text/plain": [
              "85"
            ]
          },
          "metadata": {},
          "execution_count": 51
        }
      ]
    },
    {
      "cell_type": "code",
      "metadata": {
        "id": "yPCPh-mjwHDI"
      },
      "source": [
        "df.drop(['nama'], axis=1, inplace=True)"
      ],
      "execution_count": 52,
      "outputs": []
    },
    {
      "cell_type": "code",
      "metadata": {
        "colab": {
          "base_uri": "https://localhost:8080/"
        },
        "id": "EK0Hfik3sH6e",
        "outputId": "d1cbb5bb-d077-49f8-a48f-4d1d11e54ec5"
      },
      "source": [
        "len(df['wilayah_kota'].unique())"
      ],
      "execution_count": 53,
      "outputs": [
        {
          "output_type": "execute_result",
          "data": {
            "text/plain": [
              "1"
            ]
          },
          "metadata": {},
          "execution_count": 53
        }
      ]
    },
    {
      "cell_type": "code",
      "metadata": {
        "id": "u_z4SYeesL54"
      },
      "source": [
        "df.drop(['wilayah_kota'], axis=1, inplace=True)"
      ],
      "execution_count": 54,
      "outputs": []
    },
    {
      "cell_type": "code",
      "metadata": {
        "colab": {
          "base_uri": "https://localhost:8080/"
        },
        "id": "WDVIItzUwih3",
        "outputId": "856469eb-8d1f-4161-c157-2d648d64cc8a"
      },
      "source": [
        "df.info()"
      ],
      "execution_count": 55,
      "outputs": [
        {
          "output_type": "stream",
          "name": "stdout",
          "text": [
            "<class 'pandas.core.frame.DataFrame'>\n",
            "RangeIndex: 85 entries, 0 to 84\n",
            "Data columns (total 4 columns):\n",
            " #   Column       Non-Null Count  Dtype \n",
            "---  ------       --------------  ----- \n",
            " 0   masakan_1    85 non-null     object\n",
            " 1   masakan_2    85 non-null     object\n",
            " 2   waktu_buka   85 non-null     object\n",
            " 3   waktu_tutup  85 non-null     object\n",
            "dtypes: object(4)\n",
            "memory usage: 2.8+ KB\n"
          ]
        }
      ]
    },
    {
      "cell_type": "code",
      "metadata": {
        "colab": {
          "base_uri": "https://localhost:8080/",
          "height": 206
        },
        "id": "mttVOlwywnpc",
        "outputId": "9f55035b-b99d-4e6d-edbe-19807a3a32b2"
      },
      "source": [
        "df.head()"
      ],
      "execution_count": 56,
      "outputs": [
        {
          "output_type": "execute_result",
          "data": {
            "text/html": [
              "<div>\n",
              "<style scoped>\n",
              "    .dataframe tbody tr th:only-of-type {\n",
              "        vertical-align: middle;\n",
              "    }\n",
              "\n",
              "    .dataframe tbody tr th {\n",
              "        vertical-align: top;\n",
              "    }\n",
              "\n",
              "    .dataframe thead th {\n",
              "        text-align: right;\n",
              "    }\n",
              "</style>\n",
              "<table border=\"1\" class=\"dataframe\">\n",
              "  <thead>\n",
              "    <tr style=\"text-align: right;\">\n",
              "      <th></th>\n",
              "      <th>masakan_1</th>\n",
              "      <th>masakan_2</th>\n",
              "      <th>waktu_buka</th>\n",
              "      <th>waktu_tutup</th>\n",
              "    </tr>\n",
              "  </thead>\n",
              "  <tbody>\n",
              "    <tr>\n",
              "      <th>0</th>\n",
              "      <td>Bakso Malang</td>\n",
              "      <td>Mie Ayam Bakso</td>\n",
              "      <td>8:00</td>\n",
              "      <td>22:00</td>\n",
              "    </tr>\n",
              "    <tr>\n",
              "      <th>1</th>\n",
              "      <td>Soto Tangkar</td>\n",
              "      <td>Nasi Kebuli</td>\n",
              "      <td>8:00</td>\n",
              "      <td>19:00</td>\n",
              "    </tr>\n",
              "    <tr>\n",
              "      <th>2</th>\n",
              "      <td>Ketupat Sayur</td>\n",
              "      <td>Mie Ayam Bakso</td>\n",
              "      <td>8:00</td>\n",
              "      <td>19:00</td>\n",
              "    </tr>\n",
              "    <tr>\n",
              "      <th>3</th>\n",
              "      <td>Nasi Rawon</td>\n",
              "      <td>Soto Ayam</td>\n",
              "      <td>8:00</td>\n",
              "      <td>16:00</td>\n",
              "    </tr>\n",
              "    <tr>\n",
              "      <th>4</th>\n",
              "      <td>Bubur</td>\n",
              "      <td>Ayam Penyet</td>\n",
              "      <td>7:00</td>\n",
              "      <td>18:00</td>\n",
              "    </tr>\n",
              "  </tbody>\n",
              "</table>\n",
              "</div>"
            ],
            "text/plain": [
              "       masakan_1       masakan_2 waktu_buka waktu_tutup\n",
              "0   Bakso Malang  Mie Ayam Bakso       8:00       22:00\n",
              "1   Soto Tangkar     Nasi Kebuli       8:00       19:00\n",
              "2  Ketupat Sayur  Mie Ayam Bakso       8:00       19:00\n",
              "3     Nasi Rawon       Soto Ayam       8:00       16:00\n",
              "4          Bubur     Ayam Penyet       7:00       18:00"
            ]
          },
          "metadata": {},
          "execution_count": 56
        }
      ]
    },
    {
      "cell_type": "code",
      "metadata": {
        "id": "g8LuMKlNwsQs"
      },
      "source": [
        "X = df\n",
        "y = df['masakan_1']"
      ],
      "execution_count": 58,
      "outputs": []
    },
    {
      "cell_type": "code",
      "metadata": {
        "id": "RG-08-C-x17Q"
      },
      "source": [
        "from sklearn.preprocessing import LabelEncoder\n",
        "le = LabelEncoder()\n",
        "X['masakan_1'] = le.fit_transform(X['masakan_1'])\n",
        "y = le.transform(y)"
      ],
      "execution_count": 59,
      "outputs": []
    },
    {
      "cell_type": "code",
      "metadata": {
        "colab": {
          "base_uri": "https://localhost:8080/"
        },
        "id": "_obS5PTDxuuc",
        "outputId": "5b03f620-b338-43a1-e968-ae21fb0f42f8"
      },
      "source": [
        "X.info()"
      ],
      "execution_count": 60,
      "outputs": [
        {
          "output_type": "stream",
          "name": "stdout",
          "text": [
            "<class 'pandas.core.frame.DataFrame'>\n",
            "RangeIndex: 85 entries, 0 to 84\n",
            "Data columns (total 4 columns):\n",
            " #   Column       Non-Null Count  Dtype \n",
            "---  ------       --------------  ----- \n",
            " 0   masakan_1    85 non-null     int64 \n",
            " 1   masakan_2    85 non-null     object\n",
            " 2   waktu_buka   85 non-null     object\n",
            " 3   waktu_tutup  85 non-null     object\n",
            "dtypes: int64(1), object(3)\n",
            "memory usage: 2.8+ KB\n"
          ]
        }
      ]
    },
    {
      "cell_type": "code",
      "metadata": {
        "colab": {
          "base_uri": "https://localhost:8080/",
          "height": 206
        },
        "id": "tCtxsCmVxu4-",
        "outputId": "d62d225e-a565-4005-acdd-9327cf250fdb"
      },
      "source": [
        "X.head()"
      ],
      "execution_count": 61,
      "outputs": [
        {
          "output_type": "execute_result",
          "data": {
            "text/html": [
              "<div>\n",
              "<style scoped>\n",
              "    .dataframe tbody tr th:only-of-type {\n",
              "        vertical-align: middle;\n",
              "    }\n",
              "\n",
              "    .dataframe tbody tr th {\n",
              "        vertical-align: top;\n",
              "    }\n",
              "\n",
              "    .dataframe thead th {\n",
              "        text-align: right;\n",
              "    }\n",
              "</style>\n",
              "<table border=\"1\" class=\"dataframe\">\n",
              "  <thead>\n",
              "    <tr style=\"text-align: right;\">\n",
              "      <th></th>\n",
              "      <th>masakan_1</th>\n",
              "      <th>masakan_2</th>\n",
              "      <th>waktu_buka</th>\n",
              "      <th>waktu_tutup</th>\n",
              "    </tr>\n",
              "  </thead>\n",
              "  <tbody>\n",
              "    <tr>\n",
              "      <th>0</th>\n",
              "      <td>9</td>\n",
              "      <td>Mie Ayam Bakso</td>\n",
              "      <td>8:00</td>\n",
              "      <td>22:00</td>\n",
              "    </tr>\n",
              "    <tr>\n",
              "      <th>1</th>\n",
              "      <td>52</td>\n",
              "      <td>Nasi Kebuli</td>\n",
              "      <td>8:00</td>\n",
              "      <td>19:00</td>\n",
              "    </tr>\n",
              "    <tr>\n",
              "      <th>2</th>\n",
              "      <td>19</td>\n",
              "      <td>Mie Ayam Bakso</td>\n",
              "      <td>8:00</td>\n",
              "      <td>19:00</td>\n",
              "    </tr>\n",
              "    <tr>\n",
              "      <th>3</th>\n",
              "      <td>32</td>\n",
              "      <td>Soto Ayam</td>\n",
              "      <td>8:00</td>\n",
              "      <td>16:00</td>\n",
              "    </tr>\n",
              "    <tr>\n",
              "      <th>4</th>\n",
              "      <td>13</td>\n",
              "      <td>Ayam Penyet</td>\n",
              "      <td>7:00</td>\n",
              "      <td>18:00</td>\n",
              "    </tr>\n",
              "  </tbody>\n",
              "</table>\n",
              "</div>"
            ],
            "text/plain": [
              "   masakan_1       masakan_2 waktu_buka waktu_tutup\n",
              "0          9  Mie Ayam Bakso       8:00       22:00\n",
              "1         52     Nasi Kebuli       8:00       19:00\n",
              "2         19  Mie Ayam Bakso       8:00       19:00\n",
              "3         32       Soto Ayam       8:00       16:00\n",
              "4         13     Ayam Penyet       7:00       18:00"
            ]
          },
          "metadata": {},
          "execution_count": 61
        }
      ]
    },
    {
      "cell_type": "code",
      "metadata": {
        "id": "cE9GzbdVyZOZ"
      },
      "source": [
        "cols = X.columns"
      ],
      "execution_count": 62,
      "outputs": []
    },
    {
      "cell_type": "code",
      "metadata": {
        "id": "xm0cO_e-_bpW"
      },
      "source": [
        "X = df\n",
        "y = df['masakan_2']"
      ],
      "execution_count": 63,
      "outputs": []
    },
    {
      "cell_type": "code",
      "metadata": {
        "id": "W1lniSy8_PPR"
      },
      "source": [
        "from sklearn.preprocessing import LabelEncoder\n",
        "le = LabelEncoder()\n",
        "X['masakan_2'] = le.fit_transform(X['masakan_2'])\n",
        "y = le.transform(y)"
      ],
      "execution_count": 64,
      "outputs": []
    },
    {
      "cell_type": "code",
      "metadata": {
        "colab": {
          "base_uri": "https://localhost:8080/",
          "height": 206
        },
        "id": "R51Fnujg_rPj",
        "outputId": "3bff741a-8cc7-476b-ea6b-f5057d5bd6dc"
      },
      "source": [
        "X.head()"
      ],
      "execution_count": 65,
      "outputs": [
        {
          "output_type": "execute_result",
          "data": {
            "text/html": [
              "<div>\n",
              "<style scoped>\n",
              "    .dataframe tbody tr th:only-of-type {\n",
              "        vertical-align: middle;\n",
              "    }\n",
              "\n",
              "    .dataframe tbody tr th {\n",
              "        vertical-align: top;\n",
              "    }\n",
              "\n",
              "    .dataframe thead th {\n",
              "        text-align: right;\n",
              "    }\n",
              "</style>\n",
              "<table border=\"1\" class=\"dataframe\">\n",
              "  <thead>\n",
              "    <tr style=\"text-align: right;\">\n",
              "      <th></th>\n",
              "      <th>masakan_1</th>\n",
              "      <th>masakan_2</th>\n",
              "      <th>waktu_buka</th>\n",
              "      <th>waktu_tutup</th>\n",
              "    </tr>\n",
              "  </thead>\n",
              "  <tbody>\n",
              "    <tr>\n",
              "      <th>0</th>\n",
              "      <td>9</td>\n",
              "      <td>18</td>\n",
              "      <td>8:00</td>\n",
              "      <td>22:00</td>\n",
              "    </tr>\n",
              "    <tr>\n",
              "      <th>1</th>\n",
              "      <td>52</td>\n",
              "      <td>25</td>\n",
              "      <td>8:00</td>\n",
              "      <td>19:00</td>\n",
              "    </tr>\n",
              "    <tr>\n",
              "      <th>2</th>\n",
              "      <td>19</td>\n",
              "      <td>18</td>\n",
              "      <td>8:00</td>\n",
              "      <td>19:00</td>\n",
              "    </tr>\n",
              "    <tr>\n",
              "      <th>3</th>\n",
              "      <td>32</td>\n",
              "      <td>38</td>\n",
              "      <td>8:00</td>\n",
              "      <td>16:00</td>\n",
              "    </tr>\n",
              "    <tr>\n",
              "      <th>4</th>\n",
              "      <td>13</td>\n",
              "      <td>6</td>\n",
              "      <td>7:00</td>\n",
              "      <td>18:00</td>\n",
              "    </tr>\n",
              "  </tbody>\n",
              "</table>\n",
              "</div>"
            ],
            "text/plain": [
              "   masakan_1  masakan_2 waktu_buka waktu_tutup\n",
              "0          9         18       8:00       22:00\n",
              "1         52         25       8:00       19:00\n",
              "2         19         18       8:00       19:00\n",
              "3         32         38       8:00       16:00\n",
              "4         13          6       7:00       18:00"
            ]
          },
          "metadata": {},
          "execution_count": 65
        }
      ]
    },
    {
      "cell_type": "code",
      "metadata": {
        "id": "X8Jf95MS_5Aq"
      },
      "source": [
        "X = df\n",
        "y = df['waktu_buka']"
      ],
      "execution_count": 66,
      "outputs": []
    },
    {
      "cell_type": "code",
      "metadata": {
        "id": "5TlIopHz_90P"
      },
      "source": [
        "from sklearn.preprocessing import LabelEncoder\n",
        "le = LabelEncoder()\n",
        "X['waktu_buka'] = le.fit_transform(X['waktu_buka'])\n",
        "y = le.transform(y)"
      ],
      "execution_count": 67,
      "outputs": []
    },
    {
      "cell_type": "code",
      "metadata": {
        "colab": {
          "base_uri": "https://localhost:8080/",
          "height": 206
        },
        "id": "_2yQtVL5AEv6",
        "outputId": "a532c4e5-5823-46ca-854a-3b28771bf277"
      },
      "source": [
        "X.head()"
      ],
      "execution_count": 68,
      "outputs": [
        {
          "output_type": "execute_result",
          "data": {
            "text/html": [
              "<div>\n",
              "<style scoped>\n",
              "    .dataframe tbody tr th:only-of-type {\n",
              "        vertical-align: middle;\n",
              "    }\n",
              "\n",
              "    .dataframe tbody tr th {\n",
              "        vertical-align: top;\n",
              "    }\n",
              "\n",
              "    .dataframe thead th {\n",
              "        text-align: right;\n",
              "    }\n",
              "</style>\n",
              "<table border=\"1\" class=\"dataframe\">\n",
              "  <thead>\n",
              "    <tr style=\"text-align: right;\">\n",
              "      <th></th>\n",
              "      <th>masakan_1</th>\n",
              "      <th>masakan_2</th>\n",
              "      <th>waktu_buka</th>\n",
              "      <th>waktu_tutup</th>\n",
              "    </tr>\n",
              "  </thead>\n",
              "  <tbody>\n",
              "    <tr>\n",
              "      <th>0</th>\n",
              "      <td>9</td>\n",
              "      <td>18</td>\n",
              "      <td>6</td>\n",
              "      <td>22:00</td>\n",
              "    </tr>\n",
              "    <tr>\n",
              "      <th>1</th>\n",
              "      <td>52</td>\n",
              "      <td>25</td>\n",
              "      <td>6</td>\n",
              "      <td>19:00</td>\n",
              "    </tr>\n",
              "    <tr>\n",
              "      <th>2</th>\n",
              "      <td>19</td>\n",
              "      <td>18</td>\n",
              "      <td>6</td>\n",
              "      <td>19:00</td>\n",
              "    </tr>\n",
              "    <tr>\n",
              "      <th>3</th>\n",
              "      <td>32</td>\n",
              "      <td>38</td>\n",
              "      <td>6</td>\n",
              "      <td>16:00</td>\n",
              "    </tr>\n",
              "    <tr>\n",
              "      <th>4</th>\n",
              "      <td>13</td>\n",
              "      <td>6</td>\n",
              "      <td>3</td>\n",
              "      <td>18:00</td>\n",
              "    </tr>\n",
              "  </tbody>\n",
              "</table>\n",
              "</div>"
            ],
            "text/plain": [
              "   masakan_1  masakan_2  waktu_buka waktu_tutup\n",
              "0          9         18           6       22:00\n",
              "1         52         25           6       19:00\n",
              "2         19         18           6       19:00\n",
              "3         32         38           6       16:00\n",
              "4         13          6           3       18:00"
            ]
          },
          "metadata": {},
          "execution_count": 68
        }
      ]
    },
    {
      "cell_type": "code",
      "metadata": {
        "colab": {
          "base_uri": "https://localhost:8080/",
          "height": 206
        },
        "id": "j4kL96LcAKzu",
        "outputId": "7ed7e94c-aa7f-4ff9-9d02-f504e1d90092"
      },
      "source": [
        "X = df\n",
        "y = df['waktu_tutup']\n",
        "\n",
        "from sklearn.preprocessing import LabelEncoder\n",
        "le = LabelEncoder()\n",
        "X['waktu_tutup'] = le.fit_transform(X['waktu_tutup'])\n",
        "y = le.transform(y)\n",
        "\n",
        "X.head()"
      ],
      "execution_count": 69,
      "outputs": [
        {
          "output_type": "execute_result",
          "data": {
            "text/html": [
              "<div>\n",
              "<style scoped>\n",
              "    .dataframe tbody tr th:only-of-type {\n",
              "        vertical-align: middle;\n",
              "    }\n",
              "\n",
              "    .dataframe tbody tr th {\n",
              "        vertical-align: top;\n",
              "    }\n",
              "\n",
              "    .dataframe thead th {\n",
              "        text-align: right;\n",
              "    }\n",
              "</style>\n",
              "<table border=\"1\" class=\"dataframe\">\n",
              "  <thead>\n",
              "    <tr style=\"text-align: right;\">\n",
              "      <th></th>\n",
              "      <th>masakan_1</th>\n",
              "      <th>masakan_2</th>\n",
              "      <th>waktu_buka</th>\n",
              "      <th>waktu_tutup</th>\n",
              "    </tr>\n",
              "  </thead>\n",
              "  <tbody>\n",
              "    <tr>\n",
              "      <th>0</th>\n",
              "      <td>9</td>\n",
              "      <td>18</td>\n",
              "      <td>6</td>\n",
              "      <td>8</td>\n",
              "    </tr>\n",
              "    <tr>\n",
              "      <th>1</th>\n",
              "      <td>52</td>\n",
              "      <td>25</td>\n",
              "      <td>6</td>\n",
              "      <td>5</td>\n",
              "    </tr>\n",
              "    <tr>\n",
              "      <th>2</th>\n",
              "      <td>19</td>\n",
              "      <td>18</td>\n",
              "      <td>6</td>\n",
              "      <td>5</td>\n",
              "    </tr>\n",
              "    <tr>\n",
              "      <th>3</th>\n",
              "      <td>32</td>\n",
              "      <td>38</td>\n",
              "      <td>6</td>\n",
              "      <td>2</td>\n",
              "    </tr>\n",
              "    <tr>\n",
              "      <th>4</th>\n",
              "      <td>13</td>\n",
              "      <td>6</td>\n",
              "      <td>3</td>\n",
              "      <td>4</td>\n",
              "    </tr>\n",
              "  </tbody>\n",
              "</table>\n",
              "</div>"
            ],
            "text/plain": [
              "   masakan_1  masakan_2  waktu_buka  waktu_tutup\n",
              "0          9         18           6            8\n",
              "1         52         25           6            5\n",
              "2         19         18           6            5\n",
              "3         32         38           6            2\n",
              "4         13          6           3            4"
            ]
          },
          "metadata": {},
          "execution_count": 69
        }
      ]
    },
    {
      "cell_type": "code",
      "metadata": {
        "id": "JEL9BH8Uyd4v"
      },
      "source": [
        "from sklearn.preprocessing import MinMaxScaler\n",
        "\n",
        "ms = MinMaxScaler()\n",
        "X = ms.fit_transform(X)"
      ],
      "execution_count": 70,
      "outputs": []
    },
    {
      "cell_type": "code",
      "metadata": {
        "id": "_IXNTB26yncw"
      },
      "source": [
        "X = pd.DataFrame(X, columns=[cols])"
      ],
      "execution_count": 71,
      "outputs": []
    },
    {
      "cell_type": "code",
      "metadata": {
        "colab": {
          "base_uri": "https://localhost:8080/",
          "height": 206
        },
        "id": "zv07AtL4yr3L",
        "outputId": "105f6140-d139-493d-b2e7-a9412eb4a8c3"
      },
      "source": [
        "X.head()"
      ],
      "execution_count": 72,
      "outputs": [
        {
          "output_type": "execute_result",
          "data": {
            "text/html": [
              "<div>\n",
              "<style scoped>\n",
              "    .dataframe tbody tr th:only-of-type {\n",
              "        vertical-align: middle;\n",
              "    }\n",
              "\n",
              "    .dataframe tbody tr th {\n",
              "        vertical-align: top;\n",
              "    }\n",
              "\n",
              "    .dataframe thead tr th {\n",
              "        text-align: left;\n",
              "    }\n",
              "</style>\n",
              "<table border=\"1\" class=\"dataframe\">\n",
              "  <thead>\n",
              "    <tr>\n",
              "      <th></th>\n",
              "      <th>masakan_1</th>\n",
              "      <th>masakan_2</th>\n",
              "      <th>waktu_buka</th>\n",
              "      <th>waktu_tutup</th>\n",
              "    </tr>\n",
              "  </thead>\n",
              "  <tbody>\n",
              "    <tr>\n",
              "      <th>0</th>\n",
              "      <td>0.173077</td>\n",
              "      <td>0.400000</td>\n",
              "      <td>1.0</td>\n",
              "      <td>1.000</td>\n",
              "    </tr>\n",
              "    <tr>\n",
              "      <th>1</th>\n",
              "      <td>1.000000</td>\n",
              "      <td>0.555556</td>\n",
              "      <td>1.0</td>\n",
              "      <td>0.625</td>\n",
              "    </tr>\n",
              "    <tr>\n",
              "      <th>2</th>\n",
              "      <td>0.365385</td>\n",
              "      <td>0.400000</td>\n",
              "      <td>1.0</td>\n",
              "      <td>0.625</td>\n",
              "    </tr>\n",
              "    <tr>\n",
              "      <th>3</th>\n",
              "      <td>0.615385</td>\n",
              "      <td>0.844444</td>\n",
              "      <td>1.0</td>\n",
              "      <td>0.250</td>\n",
              "    </tr>\n",
              "    <tr>\n",
              "      <th>4</th>\n",
              "      <td>0.250000</td>\n",
              "      <td>0.133333</td>\n",
              "      <td>0.5</td>\n",
              "      <td>0.500</td>\n",
              "    </tr>\n",
              "  </tbody>\n",
              "</table>\n",
              "</div>"
            ],
            "text/plain": [
              "  masakan_1 masakan_2 waktu_buka waktu_tutup\n",
              "0  0.173077  0.400000        1.0       1.000\n",
              "1  1.000000  0.555556        1.0       0.625\n",
              "2  0.365385  0.400000        1.0       0.625\n",
              "3  0.615385  0.844444        1.0       0.250\n",
              "4  0.250000  0.133333        0.5       0.500"
            ]
          },
          "metadata": {},
          "execution_count": 72
        }
      ]
    },
    {
      "cell_type": "code",
      "metadata": {
        "colab": {
          "base_uri": "https://localhost:8080/"
        },
        "id": "8ZS64b1pE0Y5",
        "outputId": "bcfb60d0-b571-4634-bfe8-7881ed35486c"
      },
      "source": [
        "df.isnull().sum()"
      ],
      "execution_count": 73,
      "outputs": [
        {
          "output_type": "execute_result",
          "data": {
            "text/plain": [
              "masakan_1      0\n",
              "masakan_2      0\n",
              "waktu_buka     0\n",
              "waktu_tutup    0\n",
              "dtype: int64"
            ]
          },
          "metadata": {},
          "execution_count": 73
        }
      ]
    },
    {
      "cell_type": "code",
      "metadata": {
        "id": "ggeF4Za5KRTo"
      },
      "source": [
        "from sklearn.ensemble import RandomForestClassifier\n",
        "from sklearn.metrics import classification_report"
      ],
      "execution_count": 74,
      "outputs": []
    },
    {
      "cell_type": "code",
      "metadata": {
        "colab": {
          "base_uri": "https://localhost:8080/"
        },
        "id": "RSy9AyOEKXAt",
        "outputId": "a64e18fd-3fa6-4fc3-b495-48d2df9ac1dc"
      },
      "source": [
        "model = RandomForestClassifier(random_state=1, verbose=1)\n",
        "model.fit(X, y)"
      ],
      "execution_count": 75,
      "outputs": [
        {
          "output_type": "stream",
          "name": "stderr",
          "text": [
            "[Parallel(n_jobs=1)]: Using backend SequentialBackend with 1 concurrent workers.\n",
            "[Parallel(n_jobs=1)]: Done 100 out of 100 | elapsed:    0.1s finished\n"
          ]
        },
        {
          "output_type": "execute_result",
          "data": {
            "text/plain": [
              "RandomForestClassifier(bootstrap=True, ccp_alpha=0.0, class_weight=None,\n",
              "                       criterion='gini', max_depth=None, max_features='auto',\n",
              "                       max_leaf_nodes=None, max_samples=None,\n",
              "                       min_impurity_decrease=0.0, min_impurity_split=None,\n",
              "                       min_samples_leaf=1, min_samples_split=2,\n",
              "                       min_weight_fraction_leaf=0.0, n_estimators=100,\n",
              "                       n_jobs=None, oob_score=False, random_state=1, verbose=1,\n",
              "                       warm_start=False)"
            ]
          },
          "metadata": {},
          "execution_count": 75
        }
      ]
    },
    {
      "cell_type": "code",
      "metadata": {
        "colab": {
          "base_uri": "https://localhost:8080/"
        },
        "id": "Nd2NErrAyuzJ",
        "outputId": "554b6767-6f3c-400a-e11a-549ffa96d445"
      },
      "source": [
        "from sklearn.cluster import KMeans\n",
        "kmeans = KMeans(n_clusters=2, random_state=0)\n",
        "\n",
        "kmeans.fit(X)"
      ],
      "execution_count": 76,
      "outputs": [
        {
          "output_type": "execute_result",
          "data": {
            "text/plain": [
              "KMeans(algorithm='auto', copy_x=True, init='k-means++', max_iter=300,\n",
              "       n_clusters=2, n_init=10, n_jobs=None, precompute_distances='auto',\n",
              "       random_state=0, tol=0.0001, verbose=0)"
            ]
          },
          "metadata": {},
          "execution_count": 76
        }
      ]
    },
    {
      "cell_type": "code",
      "metadata": {
        "colab": {
          "base_uri": "https://localhost:8080/"
        },
        "id": "fPI-ypIaCvPM",
        "outputId": "a90ea581-6249-49ff-b41b-64cb3ef4d100"
      },
      "source": [
        "kmeans.cluster_centers_"
      ],
      "execution_count": 77,
      "outputs": [
        {
          "output_type": "execute_result",
          "data": {
            "text/plain": [
              "array([[0.46923077, 0.46814815, 0.55      , 0.83333333],\n",
              "       [0.53951049, 0.51919192, 0.99090909, 0.13863636]])"
            ]
          },
          "metadata": {},
          "execution_count": 77
        }
      ]
    },
    {
      "cell_type": "code",
      "metadata": {
        "colab": {
          "base_uri": "https://localhost:8080/"
        },
        "id": "TNGnHEmCCzy7",
        "outputId": "15d0e334-b012-48f3-a56c-6d67c751833e"
      },
      "source": [
        "kmeans.inertia_"
      ],
      "execution_count": 78,
      "outputs": [
        {
          "output_type": "execute_result",
          "data": {
            "text/plain": [
              "17.64733455749695"
            ]
          },
          "metadata": {},
          "execution_count": 78
        }
      ]
    },
    {
      "cell_type": "code",
      "metadata": {
        "colab": {
          "base_uri": "https://localhost:8080/"
        },
        "id": "ZzE71pYa7jZ3",
        "outputId": "76ecedea-d214-4a2a-97d1-ae8023e7431c"
      },
      "source": [
        "labels = kmeans.labels_\n",
        "\n",
        "correct_labels = sum(y == labels)\n",
        "print(\"Result: %d out of %d samples were correctly labeled.\" % (correct_labels, y.size))"
      ],
      "execution_count": 79,
      "outputs": [
        {
          "output_type": "stream",
          "name": "stdout",
          "text": [
            "Result: 51 out of 85 samples were correctly labeled.\n"
          ]
        }
      ]
    },
    {
      "cell_type": "code",
      "metadata": {
        "colab": {
          "base_uri": "https://localhost:8080/"
        },
        "id": "bu7JRPdcC5ra",
        "outputId": "d1f00550-6304-4fae-b1f3-29be9d09d0ba"
      },
      "source": [
        "print('Accuracy score: {0:0.2f}'. format(correct_labels/float(y.size)))"
      ],
      "execution_count": 80,
      "outputs": [
        {
          "output_type": "stream",
          "name": "stdout",
          "text": [
            "Accuracy score: 0.60\n"
          ]
        }
      ]
    },
    {
      "cell_type": "code",
      "metadata": {
        "colab": {
          "base_uri": "https://localhost:8080/",
          "height": 294
        },
        "id": "JW4CQIVhDPT0",
        "outputId": "821fc5fc-9b9e-4bfb-ad6a-4880419fa28d"
      },
      "source": [
        "from sklearn.cluster import KMeans\n",
        "cs = []\n",
        "for i in range(1, 11):\n",
        "    kmeans = KMeans(n_clusters = i, init = 'k-means++', max_iter = 300, n_init = 10, random_state = 0)\n",
        "    kmeans.fit(X)\n",
        "    cs.append(kmeans.inertia_)\n",
        "plt.plot(range(1, 11), cs)\n",
        "plt.title('The Elbow Method')\n",
        "plt.xlabel('Number of clusters')\n",
        "plt.ylabel('CS')\n",
        "plt.show()"
      ],
      "execution_count": 81,
      "outputs": [
        {
          "output_type": "display_data",
          "data": {
            "image/png": "[encoded data removed]",
            "text/plain": [
              "<Figure size 432x288 with 1 Axes>"
            ]
          },
          "metadata": {
            "needs_background": "light"
          }
        }
      ]
    },
    {
      "cell_type": "code",
      "metadata": {
        "colab": {
          "base_uri": "https://localhost:8080/"
        },
        "id": "jqdOV1wyDemw",
        "outputId": "8da6c269-2799-49aa-d561-2ea8fdd2f8b9"
      },
      "source": [
        "from sklearn.cluster import KMeans\n",
        "\n",
        "kmeans = KMeans(n_clusters=2,random_state=0)\n",
        "\n",
        "kmeans.fit(X)\n",
        "\n",
        "labels = kmeans.labels_\n",
        "\n",
        "correct_labels = sum(y == labels)\n",
        "\n",
        "print(\"Result: %d out of %d samples were correctly labeled.\" % (correct_labels, y.size))\n",
        "\n",
        "print('Accuracy score: {0:0.2f}'. format(correct_labels/float(y.size)))"
      ],
      "execution_count": 82,
      "outputs": [
        {
          "output_type": "stream",
          "name": "stdout",
          "text": [
            "Result: 51 out of 85 samples were correctly labeled.\n",
            "Accuracy score: 0.60\n"
          ]
        }
      ]
    },
    {
      "cell_type": "code",
      "metadata": {
        "id": "5ZtT193btj-y"
      },
      "source": [
        "import numpy as np\n",
        "from sklearn.model_selection import train_test_split"
      ],
      "execution_count": 170,
      "outputs": []
    },
    {
      "cell_type": "code",
      "metadata": {
        "colab": {
          "base_uri": "https://localhost:8080/"
        },
        "id": "RDjE_T38qjMS",
        "outputId": "3f6d417b-cdd6-4d81-bbb4-1762a748f51e"
      },
      "source": [
        "from collections import Counter\n",
        "import re\n",
        "words = re.findall(r'\\w+', open('masakan_1.csv').read().lower())\n",
        "Counter(words).most_common(5)"
      ],
      "execution_count": 196,
      "outputs": [
        {
          "output_type": "execute_result",
          "data": {
            "text/plain": [
              "[('ayam', 30), ('soto', 15), ('nasi', 15), ('bakso', 13), ('goreng', 13)]"
            ]
          },
          "metadata": {},
          "execution_count": 196
        }
      ]
    },
    {
      "cell_type": "code",
      "metadata": {
        "colab": {
          "base_uri": "https://localhost:8080/"
        },
        "id": "RbDZEe4jzRut",
        "outputId": "f89199ca-dc5c-42bb-88c5-a2ca1bc889b6"
      },
      "source": [
        "from collections import Counter\n",
        "import re\n",
        "words = re.findall(r'\\w+', open('masakan_2.csv').read().lower())\n",
        "Counter(words).most_common(5)"
      ],
      "execution_count": 195,
      "outputs": [
        {
          "output_type": "execute_result",
          "data": {
            "text/plain": [
              "[('ayam', 30), ('soto', 19), ('nasi', 16), ('bakso', 15), ('mie', 14)]"
            ]
          },
          "metadata": {},
          "execution_count": 195
        }
      ]
    }
  ]
}