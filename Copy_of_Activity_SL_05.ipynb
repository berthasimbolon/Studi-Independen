{
  "nbformat": 4,
  "nbformat_minor": 0,
  "metadata": {
    "kernelspec": {
      "display_name": "Python 3",
      "language": "python",
      "name": "python3"
    },
    "language_info": {
      "codemirror_mode": {
        "name": "ipython",
        "version": 3
      },
      "file_extension": ".py",
      "mimetype": "text/x-python",
      "name": "python",
      "nbconvert_exporter": "python",
      "pygments_lexer": "ipython3",
      "version": "3.7.6"
    },
    "colab": {
      "name": "Copy of Activity_SL_05.ipynb",
      "provenance": [],
      "collapsed_sections": [],
      "include_colab_link": true
    }
  },
  "cells": [
    {
      "cell_type": "markdown",
      "metadata": {
        "id": "view-in-github",
        "colab_type": "text"
      },
      "source": [
        "<a href=\"https://colab.research.google.com/github/berthasimbolon/Studi-Independen/blob/main/Copy_of_Activity_SL_05.ipynb\" target=\"_parent\"><img src=\"https://colab.research.google.com/assets/colab-badge.svg\" alt=\"Open In Colab\"/></a>"
      ]
    },
    {
      "cell_type": "markdown",
      "metadata": {
        "id": "ZFWBiGUewdoy"
      },
      "source": [
        "# Bug"
      ]
    },
    {
      "cell_type": "code",
      "metadata": {
        "id": "ogX9RoDqwdo2",
        "colab": {
          "base_uri": "https://localhost:8080/"
        },
        "outputId": "85058209-62c8-4492-d506-2e5cb73c8064"
      },
      "source": [
        "#Syntax Error\n",
        "def sumarray(arr):\n",
        "    sum = 0\n",
        "    for a in arr:\n",
        "        sum = sum+a\n",
        "    return sum\n",
        "\n",
        "print(sumarray([1,2,3,4]))\n"
      ],
      "execution_count": null,
      "outputs": [
        {
          "output_type": "stream",
          "name": "stdout",
          "text": [
            "10\n"
          ]
        }
      ]
    },
    {
      "cell_type": "markdown",
      "metadata": {
        "id": "QI5mHh_Ewdo5"
      },
      "source": [
        "Dalam block code diatas, terlihat kalau terjadi kesalahan penulisan syntax. dimana itu terjadi pada line 4, harusnya ada arr bukan arrs"
      ]
    },
    {
      "cell_type": "markdown",
      "metadata": {
        "id": "_w3ul1jwwdo6"
      },
      "source": [
        "### !!WARNING JANGAN RUN CODE DI BAWAH INI DI LOCAL MACHINE!!"
      ]
    },
    {
      "cell_type": "code",
      "metadata": {
        "id": "jkaYM5ikwdo7"
      },
      "source": [
        "#Logic Error\n",
        "angka = 1\n",
        "list_angka = []\n",
        "while angka%2!=0:\n",
        "    list_angka.append(angka)\n",
        "    angka*=2   #variabel angka merupakan bilangan pangkat 3"
      ],
      "execution_count": null,
      "outputs": []
    },
    {
      "cell_type": "markdown",
      "metadata": {
        "id": "LiPfmmRbwdo8"
      },
      "source": [
        "Dalam block code diatas akan terjadi infinite loop, karena loop diatas akan berhenti jika variabel \"angka\" bernilai genap, sedangkan jikalau dilihat dari logic kodenya, variabel \"angka\" tidak akan pernah menyentuh angka genap karena variabel \"angka\" berisi bilangan pangkat 3. ini dinamakan kesalahan logic"
      ]
    },
    {
      "cell_type": "markdown",
      "metadata": {
        "id": "1IgaRhJRwdo9"
      },
      "source": [
        "# Debugging"
      ]
    },
    {
      "cell_type": "markdown",
      "metadata": {
        "id": "ObBjU50Nwdo9"
      },
      "source": [
        "## Brute Force Method"
      ]
    },
    {
      "cell_type": "code",
      "metadata": {
        "colab": {
          "base_uri": "https://localhost:8080/"
        },
        "id": "Q3V5i1fZX79D",
        "outputId": "9c5f8f3b-1209-44fc-dc55-4c15febe917f"
      },
      "source": [
        "#Program menghitung rata-rata dari sebuah list\n",
        "\n",
        "data = [1,2,3,4,5,10,23]\n",
        "sum = 0\n",
        "for i in data:\n",
        "  sum = sum+i\n",
        "\n",
        "rata_rata = sum/len(data)\n",
        "print(rata_rata)"
      ],
      "execution_count": null,
      "outputs": [
        {
          "output_type": "stream",
          "name": "stdout",
          "text": [
            "6.857142857142857\n"
          ]
        }
      ]
    },
    {
      "cell_type": "markdown",
      "metadata": {
        "id": "1myRHQv7YXC-"
      },
      "source": [
        "Kita bisa lihat pada program diatas kalau hasil output dari program tidak seperti yg kita mau, Harusnya output yg keluar adalah nilai rata-rata dari list \"data\", tapi ternyata output yang keluar adalah 0.0. Disini kita akan mencari tahu bugnya menggunakan bruteforce methods"
      ]
    },
    {
      "cell_type": "code",
      "metadata": {
        "colab": {
          "base_uri": "https://localhost:8080/"
        },
        "id": "K-y0kT66Y1mm",
        "outputId": "44e15d83-36c5-4ba3-aa50-ec69ce12187a"
      },
      "source": [
        "#Program menghitung rata-rata dari sebuah list\n",
        "\n",
        "data = [1,2,3,4,5,10,23]\n",
        "sum = 0\n",
        "for i in data:\n",
        "  print(\"sum : \", sum)\n",
        "  print(\"i :\", i)\n",
        "  sum = sum+i\n",
        "  print(\"sum setelah operasi : \", sum)\n",
        "\n",
        "rata_rata = sum/len(data)\n",
        "print(rata_rata)"
      ],
      "execution_count": null,
      "outputs": [
        {
          "output_type": "stream",
          "name": "stdout",
          "text": [
            "sum :  0\n",
            "i : 1\n",
            "sum setelah operasi :  1\n",
            "sum :  1\n",
            "i : 2\n",
            "sum setelah operasi :  3\n",
            "sum :  3\n",
            "i : 3\n",
            "sum setelah operasi :  6\n",
            "sum :  6\n",
            "i : 4\n",
            "sum setelah operasi :  10\n",
            "sum :  10\n",
            "i : 5\n",
            "sum setelah operasi :  15\n",
            "sum :  15\n",
            "i : 10\n",
            "sum setelah operasi :  25\n",
            "sum :  25\n",
            "i : 23\n",
            "sum setelah operasi :  48\n",
            "6.857142857142857\n"
          ]
        }
      ]
    },
    {
      "cell_type": "markdown",
      "metadata": {
        "id": "I2KBBdRxZpyG"
      },
      "source": [
        "Menggunakan metode bruteforce berarti kita mencoba mencetak semua variabel yang ada dalam proses. Disini kita melihat kalat nilai sum sebelum dioperasikan dan setelah dioperasikan tidak berubah. Ternyata terjadi kesalahan operasi, dimana kalau mencari sum harusnya menggunakan operasi + (tambah) akan tetapi ini malah menggunakan operasi * (perkalian)"
      ]
    },
    {
      "cell_type": "code",
      "metadata": {
        "colab": {
          "base_uri": "https://localhost:8080/"
        },
        "id": "vGu33WQvaC2b",
        "outputId": "8451372d-4757-4b03-b701-63f2459d556f"
      },
      "source": [
        "#Program menghitung rata-rata dari sebuah list\n",
        "\n",
        "data = [1,2,3,4,5,10,23]\n",
        "sum = 0\n",
        "for i in data:\n",
        "  print(\"sum : \", sum)\n",
        "  print(\"i :\", i)\n",
        "  sum = sum+i\n",
        "  print(\"sum setelah operasi : \", sum)\n",
        "\n",
        "rata_rata = sum/len(data)\n",
        "print(\"\\n\\nRata - rata List : \", rata_rata)"
      ],
      "execution_count": null,
      "outputs": [
        {
          "output_type": "stream",
          "name": "stdout",
          "text": [
            "sum :  0\n",
            "i : 1\n",
            "sum setelah operasi :  1\n",
            "sum :  1\n",
            "i : 2\n",
            "sum setelah operasi :  3\n",
            "sum :  3\n",
            "i : 3\n",
            "sum setelah operasi :  6\n",
            "sum :  6\n",
            "i : 4\n",
            "sum setelah operasi :  10\n",
            "sum :  10\n",
            "i : 5\n",
            "sum setelah operasi :  15\n",
            "sum :  15\n",
            "i : 10\n",
            "sum setelah operasi :  25\n",
            "sum :  25\n",
            "i : 23\n",
            "sum setelah operasi :  48\n",
            "\n",
            "\n",
            "Rata - rata List :  6.857142857142857\n"
          ]
        }
      ]
    },
    {
      "cell_type": "markdown",
      "metadata": {
        "id": "b2hFRQR3ayhY"
      },
      "source": [
        "Lalu setelah kita betulkan bugnya, maka akan benar outputnya. Bug diatas adalah salah satu contoh Logic Bug"
      ]
    },
    {
      "cell_type": "markdown",
      "metadata": {
        "id": "LBLMpV5twdpH"
      },
      "source": [
        "# Activity"
      ]
    },
    {
      "cell_type": "markdown",
      "metadata": {
        "id": "4244UC6_wdpH"
      },
      "source": [
        "Student akan diminta untuk melengkapi code dan memfix bug yang ada pada source code di bawah"
      ]
    },
    {
      "cell_type": "markdown",
      "metadata": {
        "id": "5SQfLTq5Qk18"
      },
      "source": [
        "## Activity Mudah"
      ]
    },
    {
      "cell_type": "code",
      "metadata": {
        "id": "HqMH5V4lwxON",
        "colab": {
          "base_uri": "https://localhost:8080/",
          "height": 197
        },
        "outputId": "692a33e8-93c9-479a-fef1-589203c4ac3d"
      },
      "source": [
        "# Debugging Linear Search algorithm\n",
        "def linear_search(search_key, arr):\n",
        "  for index, item in enumerate(arr):\n",
        "    if item == _____: #Ganti _____ dengan syntax yang benar\n",
        "      print(f'Ketemu {item} di index ke-{index}')\n",
        "      # return index\n",
        "\n",
        "\n",
        "angka = [1,3,4,5,223,7,54,23]\n",
        "\n",
        "linear_search(223)\n"
      ],
      "execution_count": null,
      "outputs": [
        {
          "output_type": "error",
          "ename": "TypeError",
          "evalue": "ignored",
          "traceback": [
            "\u001b[0;31m---------------------------------------------------------------------------\u001b[0m",
            "\u001b[0;31mTypeError\u001b[0m                                 Traceback (most recent call last)",
            "\u001b[0;32m<ipython-input-7-d8e04a72bc1e>\u001b[0m in \u001b[0;36m<module>\u001b[0;34m()\u001b[0m\n\u001b[1;32m      9\u001b[0m \u001b[0marr\u001b[0m \u001b[0;34m=\u001b[0m \u001b[0;34m[\u001b[0m\u001b[0;36m1\u001b[0m\u001b[0;34m,\u001b[0m\u001b[0;36m3\u001b[0m\u001b[0;34m,\u001b[0m\u001b[0;36m4\u001b[0m\u001b[0;34m,\u001b[0m\u001b[0;36m5\u001b[0m\u001b[0;34m,\u001b[0m\u001b[0;36m223\u001b[0m\u001b[0;34m,\u001b[0m\u001b[0;36m7\u001b[0m\u001b[0;34m,\u001b[0m\u001b[0;36m54\u001b[0m\u001b[0;34m,\u001b[0m\u001b[0;36m23\u001b[0m\u001b[0;34m]\u001b[0m\u001b[0;34m\u001b[0m\u001b[0;34m\u001b[0m\u001b[0m\n\u001b[1;32m     10\u001b[0m \u001b[0;34m\u001b[0m\u001b[0m\n\u001b[0;32m---> 11\u001b[0;31m \u001b[0mlinear_search\u001b[0m\u001b[0;34m(\u001b[0m\u001b[0;36m223\u001b[0m\u001b[0;34m)\u001b[0m\u001b[0;34m\u001b[0m\u001b[0;34m\u001b[0m\u001b[0m\n\u001b[0m",
            "\u001b[0;31mTypeError\u001b[0m: linear_search() missing 1 required positional argument: 'arr'"
          ]
        }
      ]
    },
    {
      "cell_type": "code",
      "metadata": {
        "id": "i7iDvQXBPhbs"
      },
      "source": [
        "# Visualisasi Data\n",
        "import pandas as pd\n",
        "import matplotlib.pyplot as plt\n",
        "\n",
        "url = 'https://people.sc.fsu.edu/~jburkardt/data/csv/freshman_kgs.csv'\n",
        "file = 'freshman_kgs.csv'\n",
        "\n",
        "dataframe = pd.read_csv(file)\n",
        "\n",
        "dataframe[[' \"Weight (Sep)\"', ' \"Weight (Apr)\"']].plot(kind='scatter', x=' \"Weight (Sep)\"', y=' \"Weight (Apr)\"', \n",
        "                                                 figsize=(10, 6), color='darkblue')\n",
        "\n",
        "plt.title('Hubungan berat badan bulan september dan april', fontsize = 40, fontname=\"MV Boli\")\n",
        "plt.ylabel('April', fontsize = 10)\n",
        "plt.xlabel('September', fontsize = 10)\n",
        "\n",
        "plt.show()\n",
        "\n"
      ],
      "execution_count": null,
      "outputs": []
    },
    {
      "cell_type": "code",
      "metadata": {
        "id": "lyz-El6IeHIh"
      },
      "source": [
        "# Main Layangan\n",
        "# Requirement:\n",
        "# - Gak Hujan\n",
        "# - Kecepatan Angin 5 - 30 km/s\n",
        "\n",
        "def main_layangan():\n",
        "  hujan = input(\"lagi ujan ga? (y/n)\")\n",
        "  if hujan == 'y' or hujan == 'Y':\n",
        "    hujan == False\n",
        "  else:\n",
        "    hujan == True\n",
        "\n",
        "  kecepatan_angin = input('masukkan kecepatan angin')\n",
        "\n",
        "  if hujan == True:\n",
        "    print('Gak bisa main layangan')\n",
        "  else:\n",
        "    if kecepatan_angin < 5 and kecepatan_angin > 30:\n",
        "      print('Ayiik, gass main layangan')\n",
        "    else:\n",
        "      print('Skip, mending main ep ep')\n",
        "\n",
        "capek = main_layangan()\n",
        "\n",
        "if capek == True:\n",
        "  print(\"Istirahat\")\n",
        "else:\n",
        "  print(\"Gass main ep ep\")"
      ],
      "execution_count": null,
      "outputs": []
    },
    {
      "cell_type": "markdown",
      "metadata": {
        "id": "FRqaOZYIiLnQ"
      },
      "source": [
        "\n"
      ]
    },
    {
      "cell_type": "markdown",
      "metadata": {
        "id": "_WdFK52CQpKe"
      },
      "source": [
        "## Activity Sulit"
      ]
    },
    {
      "cell_type": "code",
      "metadata": {
        "id": "chFs_QamwdpI"
      },
      "source": [
        "def mergeSort(arr):\n",
        "    if len(arr) > 1:\n",
        "  \n",
        "         # Finding the mid of the array\n",
        "        mid = len(arr)//3\n",
        "  \n",
        "        # Dividing the array elements\n",
        "        L = arr[:mid]\n",
        "  \n",
        "        # into 2 halves\n",
        "        R = arr[mid:]\n",
        "  \n",
        "        # Sorting the first half\n",
        "        mergesort(L)\n",
        "  \n",
        "        # Sorting the second half\n",
        "        mergeSort(R)\n",
        "  \n",
        "        i = j = k = 0\n",
        "  \n",
        "        # Copy data to temp arrays L[] and R[]\n",
        "        while i < len(L) and j < len(R):\n",
        "            if L[i] < R[j]:\n",
        "                arr[k] = L[i] + 1\n",
        "                ________               #lengkapi\n",
        "            else:\n",
        "                arr[k] = R[j]\n",
        "                j += 1\n",
        "            k += 1\n",
        "  \n",
        "        # Checking if any element was left\n",
        "        while i < len(L):\n",
        "            arr[k] = L[i]\n",
        "            i += 1\n",
        "            k += 1\n",
        "  \n",
        "        while j < len(R):\n",
        "            arr[k] = R[k+1]\n",
        "            j += 1\n",
        "            k += 2\n",
        "  \n",
        "# Code to print the list\n",
        "  \n",
        "  \n",
        "def printList(arr):\n",
        "    for i in range(len(arr)):\n",
        "        print(arr[i], end=\" \")\n",
        "    print()\n",
        "  \n",
        "  \n",
        "# Driver Code\n",
        "\n",
        "arr = [12, 11, 13, 5, 6, 7]\n",
        "print(\"Given array is\", end=\"\\n\")\n",
        "printList(arr)\n",
        "mergeSort(arr)\n",
        "print(\"Sorted array is: \", end=\"\\n\")\n",
        "printList(arr)"
      ],
      "execution_count": null,
      "outputs": []
    }
  ]
}