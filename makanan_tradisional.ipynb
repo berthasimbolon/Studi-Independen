{
  "nbformat": 4,
  "nbformat_minor": 0,
  "metadata": {
    "colab": {
      "name": "makanan_tradisional",
      "provenance": [],
      "collapsed_sections": [],
      "authorship_tag": "ABX9TyMHe76poJjuh8EmPJaGEY5D",
      "include_colab_link": true
    },
    "kernelspec": {
      "name": "python3",
      "display_name": "Python 3"
    },
    "language_info": {
      "name": "python"
    }
  },
  "cells": [
    {
      "cell_type": "markdown",
      "metadata": {
        "id": "view-in-github",
        "colab_type": "text"
      },
      "source": [
        "<a href=\"https://colab.research.google.com/github/berthasimbolon/Studi-Independen/blob/main/makanan_tradisional.ipynb\" target=\"_parent\"><img src=\"https://colab.research.google.com/assets/colab-badge.svg\" alt=\"Open In Colab\"/></a>"
      ]
    },
    {
      "cell_type": "code",
      "metadata": {
        "id": "TPbyagpEiJdt"
      },
      "source": [
        "import numpy as np\n",
        "import pandas as pd\n",
        "import matplotlib.pyplot as plt\n",
        "import seaborn as sns\n",
        "%matplotlib inline\n",
        "\n",
        "from sklearn.tree import DecisionTreeClassifier\n",
        "from sklearn.model_selection import train_test_split\n",
        "from sklearn import metrics\n",
        "\n",
        "import os\n",
        "for dirname, _, filenames in os.walk('https://raw.githubusercontent.com/berthasimbolon/Studi-Independen/main/Dataset/makanan_tradisional.csv'):\n",
        "  for filename in filenames:\n",
        "      print(os.path.join(dirname, filename))"
      ],
      "execution_count": null,
      "outputs": []
    },
    {
      "cell_type": "code",
      "metadata": {
        "colab": {
          "base_uri": "https://localhost:8080/"
        },
        "id": "UoX0RmdSuVWd",
        "outputId": "965f7269-da36-4763-a686-d8f08da0c10b"
      },
      "source": [
        "!wget -O makanan_tradisional.csv https://raw.githubusercontent.com/berthasimbolon/Studi-Independen/main/Dataset/makanan_tradisional.csv"
      ],
      "execution_count": null,
      "outputs": [
        {
          "output_type": "stream",
          "name": "stdout",
          "text": [
            "--2021-10-13 17:07:13--  https://raw.githubusercontent.com/berthasimbolon/Studi-Independen/main/Dataset/makanan_tradisional.csv\n",
            "Resolving raw.githubusercontent.com (raw.githubusercontent.com)... 185.199.108.133, 185.199.109.133, 185.199.110.133, ...\n",
            "Connecting to raw.githubusercontent.com (raw.githubusercontent.com)|185.199.108.133|:443... connected.\n",
            "HTTP request sent, awaiting response... 200 OK\n",
            "Length: 15511 (15K) [text/plain]\n",
            "Saving to: ‘makanan_tradisional.csv’\n",
            "\n",
            "makanan_tradisional 100%[===================>]  15.15K  --.-KB/s    in 0.001s  \n",
            "\n",
            "2021-10-13 17:07:14 (27.3 MB/s) - ‘makanan_tradisional.csv’ saved [15511/15511]\n",
            "\n"
          ]
        }
      ]
    },
    {
      "cell_type": "code",
      "metadata": {
        "id": "6LFXVX5xi3Ih"
      },
      "source": [
        "import warnings\n",
        "warnings.filterwarnings('ignore')"
      ],
      "execution_count": null,
      "outputs": []
    },
    {
      "cell_type": "code",
      "metadata": {
        "colab": {
          "base_uri": "https://localhost:8080/",
          "height": 424
        },
        "id": "0kinrrUejOWf",
        "outputId": "a978ee11-8c79-4adb-e909-002303625bda"
      },
      "source": [
        "df = 'makanan_tradisional.csv'\n",
        "df = pd.read_csv('makanan_tradisional.csv', encoding = 'unicode_escape')\n",
        "df"
      ],
      "execution_count": null,
      "outputs": [
        {
          "output_type": "execute_result",
          "data": {
            "text/html": [
              "<div>\n",
              "<style scoped>\n",
              "    .dataframe tbody tr th:only-of-type {\n",
              "        vertical-align: middle;\n",
              "    }\n",
              "\n",
              "    .dataframe tbody tr th {\n",
              "        vertical-align: top;\n",
              "    }\n",
              "\n",
              "    .dataframe thead th {\n",
              "        text-align: right;\n",
              "    }\n",
              "</style>\n",
              "<table border=\"1\" class=\"dataframe\">\n",
              "  <thead>\n",
              "    <tr style=\"text-align: right;\">\n",
              "      <th></th>\n",
              "      <th>Timestamp</th>\n",
              "      <th>Type_Makanan</th>\n",
              "      <th>Code_Makanan</th>\n",
              "      <th>Amount_Makanan</th>\n",
              "      <th>Type_Minuman</th>\n",
              "      <th>Code_Minuman</th>\n",
              "      <th>Amount_Minuman</th>\n",
              "      <th>Gender</th>\n",
              "      <th>Payment</th>\n",
              "    </tr>\n",
              "  </thead>\n",
              "  <tbody>\n",
              "    <tr>\n",
              "      <th>0</th>\n",
              "      <td>10:01</td>\n",
              "      <td>Bakso kuah</td>\n",
              "      <td>1</td>\n",
              "      <td>6</td>\n",
              "      <td>Es teh</td>\n",
              "      <td>1</td>\n",
              "      <td>3</td>\n",
              "      <td>1</td>\n",
              "      <td>DANA</td>\n",
              "    </tr>\n",
              "    <tr>\n",
              "      <th>1</th>\n",
              "      <td>10:04</td>\n",
              "      <td>Mie ayam bakso</td>\n",
              "      <td>3</td>\n",
              "      <td>12</td>\n",
              "      <td>Es jeruk</td>\n",
              "      <td>2</td>\n",
              "      <td>10</td>\n",
              "      <td>0</td>\n",
              "      <td>DANA</td>\n",
              "    </tr>\n",
              "    <tr>\n",
              "      <th>2</th>\n",
              "      <td>10:05</td>\n",
              "      <td>Ayam bakar</td>\n",
              "      <td>4</td>\n",
              "      <td>10</td>\n",
              "      <td>Es teh</td>\n",
              "      <td>1</td>\n",
              "      <td>5</td>\n",
              "      <td>0</td>\n",
              "      <td>LINK AJA</td>\n",
              "    </tr>\n",
              "    <tr>\n",
              "      <th>3</th>\n",
              "      <td>10:06</td>\n",
              "      <td>Nasi goreng</td>\n",
              "      <td>2</td>\n",
              "      <td>9</td>\n",
              "      <td>Mineral water</td>\n",
              "      <td>3</td>\n",
              "      <td>9</td>\n",
              "      <td>0</td>\n",
              "      <td>DANA</td>\n",
              "    </tr>\n",
              "    <tr>\n",
              "      <th>4</th>\n",
              "      <td>10:07</td>\n",
              "      <td>Soto</td>\n",
              "      <td>6</td>\n",
              "      <td>11</td>\n",
              "      <td>Es jeruk</td>\n",
              "      <td>2</td>\n",
              "      <td>3</td>\n",
              "      <td>1</td>\n",
              "      <td>DANA</td>\n",
              "    </tr>\n",
              "    <tr>\n",
              "      <th>...</th>\n",
              "      <td>...</td>\n",
              "      <td>...</td>\n",
              "      <td>...</td>\n",
              "      <td>...</td>\n",
              "      <td>...</td>\n",
              "      <td>...</td>\n",
              "      <td>...</td>\n",
              "      <td>...</td>\n",
              "      <td>...</td>\n",
              "    </tr>\n",
              "    <tr>\n",
              "      <th>342</th>\n",
              "      <td>11:08</td>\n",
              "      <td>Bakso kuah</td>\n",
              "      <td>1</td>\n",
              "      <td>4</td>\n",
              "      <td>Es campur</td>\n",
              "      <td>4</td>\n",
              "      <td>1</td>\n",
              "      <td>0</td>\n",
              "      <td>OVO</td>\n",
              "    </tr>\n",
              "    <tr>\n",
              "      <th>343</th>\n",
              "      <td>11:10</td>\n",
              "      <td>Ayam goreng</td>\n",
              "      <td>5</td>\n",
              "      <td>2</td>\n",
              "      <td>Es campur</td>\n",
              "      <td>4</td>\n",
              "      <td>3</td>\n",
              "      <td>1</td>\n",
              "      <td>OVO</td>\n",
              "    </tr>\n",
              "    <tr>\n",
              "      <th>344</th>\n",
              "      <td>11:11</td>\n",
              "      <td>Bakso kuah</td>\n",
              "      <td>1</td>\n",
              "      <td>10</td>\n",
              "      <td>Es jeruk</td>\n",
              "      <td>2</td>\n",
              "      <td>2</td>\n",
              "      <td>1</td>\n",
              "      <td>GOPAY</td>\n",
              "    </tr>\n",
              "    <tr>\n",
              "      <th>345</th>\n",
              "      <td>11:13</td>\n",
              "      <td>Bakso kuah</td>\n",
              "      <td>1</td>\n",
              "      <td>8</td>\n",
              "      <td>Es teh</td>\n",
              "      <td>1</td>\n",
              "      <td>5</td>\n",
              "      <td>0</td>\n",
              "      <td>TUNAI</td>\n",
              "    </tr>\n",
              "    <tr>\n",
              "      <th>346</th>\n",
              "      <td>11:17</td>\n",
              "      <td>Ayam goreng</td>\n",
              "      <td>5</td>\n",
              "      <td>2</td>\n",
              "      <td>Mineral water</td>\n",
              "      <td>3</td>\n",
              "      <td>5</td>\n",
              "      <td>1</td>\n",
              "      <td>OVO</td>\n",
              "    </tr>\n",
              "  </tbody>\n",
              "</table>\n",
              "<p>347 rows × 9 columns</p>\n",
              "</div>"
            ],
            "text/plain": [
              "    Timestamp    Type_Makanan  Code_Makanan  ...  Amount_Minuman Gender   Payment\n",
              "0       10:01      Bakso kuah             1  ...               3      1      DANA\n",
              "1       10:04  Mie ayam bakso             3  ...              10      0      DANA\n",
              "2       10:05      Ayam bakar             4  ...               5      0  LINK AJA\n",
              "3       10:06     Nasi goreng             2  ...               9      0      DANA\n",
              "4       10:07            Soto             6  ...               3      1      DANA\n",
              "..        ...             ...           ...  ...             ...    ...       ...\n",
              "342     11:08      Bakso kuah             1  ...               1      0       OVO\n",
              "343     11:10     Ayam goreng             5  ...               3      1       OVO\n",
              "344     11:11      Bakso kuah             1  ...               2      1     GOPAY\n",
              "345     11:13      Bakso kuah             1  ...               5      0     TUNAI\n",
              "346     11:17     Ayam goreng             5  ...               5      1       OVO\n",
              "\n",
              "[347 rows x 9 columns]"
            ]
          },
          "metadata": {},
          "execution_count": 118
        }
      ]
    },
    {
      "cell_type": "code",
      "metadata": {
        "id": "1xO7xjvsjrXG",
        "colab": {
          "base_uri": "https://localhost:8080/"
        },
        "outputId": "24ac2359-db8c-42dc-e98d-ea15c6234e48"
      },
      "source": [
        "df.shape"
      ],
      "execution_count": null,
      "outputs": [
        {
          "output_type": "execute_result",
          "data": {
            "text/plain": [
              "(347, 9)"
            ]
          },
          "metadata": {},
          "execution_count": 119
        }
      ]
    },
    {
      "cell_type": "code",
      "metadata": {
        "id": "ffxFx0T8jvza",
        "colab": {
          "base_uri": "https://localhost:8080/",
          "height": 206
        },
        "outputId": "4f78d809-f22c-4a24-dbdc-499580c5cbcb"
      },
      "source": [
        "df.head()"
      ],
      "execution_count": null,
      "outputs": [
        {
          "output_type": "execute_result",
          "data": {
            "text/html": [
              "<div>\n",
              "<style scoped>\n",
              "    .dataframe tbody tr th:only-of-type {\n",
              "        vertical-align: middle;\n",
              "    }\n",
              "\n",
              "    .dataframe tbody tr th {\n",
              "        vertical-align: top;\n",
              "    }\n",
              "\n",
              "    .dataframe thead th {\n",
              "        text-align: right;\n",
              "    }\n",
              "</style>\n",
              "<table border=\"1\" class=\"dataframe\">\n",
              "  <thead>\n",
              "    <tr style=\"text-align: right;\">\n",
              "      <th></th>\n",
              "      <th>Timestamp</th>\n",
              "      <th>Type_Makanan</th>\n",
              "      <th>Code_Makanan</th>\n",
              "      <th>Amount_Makanan</th>\n",
              "      <th>Type_Minuman</th>\n",
              "      <th>Code_Minuman</th>\n",
              "      <th>Amount_Minuman</th>\n",
              "      <th>Gender</th>\n",
              "      <th>Payment</th>\n",
              "    </tr>\n",
              "  </thead>\n",
              "  <tbody>\n",
              "    <tr>\n",
              "      <th>0</th>\n",
              "      <td>10:01</td>\n",
              "      <td>Bakso kuah</td>\n",
              "      <td>1</td>\n",
              "      <td>6</td>\n",
              "      <td>Es teh</td>\n",
              "      <td>1</td>\n",
              "      <td>3</td>\n",
              "      <td>1</td>\n",
              "      <td>DANA</td>\n",
              "    </tr>\n",
              "    <tr>\n",
              "      <th>1</th>\n",
              "      <td>10:04</td>\n",
              "      <td>Mie ayam bakso</td>\n",
              "      <td>3</td>\n",
              "      <td>12</td>\n",
              "      <td>Es jeruk</td>\n",
              "      <td>2</td>\n",
              "      <td>10</td>\n",
              "      <td>0</td>\n",
              "      <td>DANA</td>\n",
              "    </tr>\n",
              "    <tr>\n",
              "      <th>2</th>\n",
              "      <td>10:05</td>\n",
              "      <td>Ayam bakar</td>\n",
              "      <td>4</td>\n",
              "      <td>10</td>\n",
              "      <td>Es teh</td>\n",
              "      <td>1</td>\n",
              "      <td>5</td>\n",
              "      <td>0</td>\n",
              "      <td>LINK AJA</td>\n",
              "    </tr>\n",
              "    <tr>\n",
              "      <th>3</th>\n",
              "      <td>10:06</td>\n",
              "      <td>Nasi goreng</td>\n",
              "      <td>2</td>\n",
              "      <td>9</td>\n",
              "      <td>Mineral water</td>\n",
              "      <td>3</td>\n",
              "      <td>9</td>\n",
              "      <td>0</td>\n",
              "      <td>DANA</td>\n",
              "    </tr>\n",
              "    <tr>\n",
              "      <th>4</th>\n",
              "      <td>10:07</td>\n",
              "      <td>Soto</td>\n",
              "      <td>6</td>\n",
              "      <td>11</td>\n",
              "      <td>Es jeruk</td>\n",
              "      <td>2</td>\n",
              "      <td>3</td>\n",
              "      <td>1</td>\n",
              "      <td>DANA</td>\n",
              "    </tr>\n",
              "  </tbody>\n",
              "</table>\n",
              "</div>"
            ],
            "text/plain": [
              "  Timestamp    Type_Makanan  Code_Makanan  ...  Amount_Minuman Gender   Payment\n",
              "0     10:01      Bakso kuah             1  ...               3      1      DANA\n",
              "1     10:04  Mie ayam bakso             3  ...              10      0      DANA\n",
              "2     10:05      Ayam bakar             4  ...               5      0  LINK AJA\n",
              "3     10:06     Nasi goreng             2  ...               9      0      DANA\n",
              "4     10:07            Soto             6  ...               3      1      DANA\n",
              "\n",
              "[5 rows x 9 columns]"
            ]
          },
          "metadata": {},
          "execution_count": 120
        }
      ]
    },
    {
      "cell_type": "code",
      "metadata": {
        "id": "ttD9ycJmjyRg",
        "colab": {
          "base_uri": "https://localhost:8080/"
        },
        "outputId": "de8e6488-c578-48d8-a8b0-0d2eba0bdc60"
      },
      "source": [
        "df.info()"
      ],
      "execution_count": null,
      "outputs": [
        {
          "output_type": "stream",
          "name": "stdout",
          "text": [
            "<class 'pandas.core.frame.DataFrame'>\n",
            "RangeIndex: 347 entries, 0 to 346\n",
            "Data columns (total 9 columns):\n",
            " #   Column          Non-Null Count  Dtype \n",
            "---  ------          --------------  ----- \n",
            " 0   Timestamp       347 non-null    object\n",
            " 1   Type_Makanan    347 non-null    object\n",
            " 2   Code_Makanan    347 non-null    int64 \n",
            " 3   Amount_Makanan  347 non-null    int64 \n",
            " 4   Type_Minuman    347 non-null    object\n",
            " 5   Code_Minuman    347 non-null    int64 \n",
            " 6   Amount_Minuman  347 non-null    int64 \n",
            " 7   Gender          347 non-null    int64 \n",
            " 8   Payment         347 non-null    object\n",
            "dtypes: int64(5), object(4)\n",
            "memory usage: 24.5+ KB\n"
          ]
        }
      ]
    },
    {
      "cell_type": "code",
      "metadata": {
        "colab": {
          "base_uri": "https://localhost:8080/",
          "height": 280
        },
        "id": "N6YCst4xzFeW",
        "outputId": "92ac8e06-b5d5-4f45-ea7f-db90aaddaba5"
      },
      "source": [
        "makanan = df['Type_Makanan']\n",
        "\n",
        "sns.countplot(\"Type_Makanan\", data=df)\n",
        "plt.show()"
      ],
      "execution_count": null,
      "outputs": [
        {
          "output_type": "display_data",
          "data": {
            "image/png": "[encoded data removed]",
            "text/plain": [
              "<Figure size 432x288 with 1 Axes>"
            ]
          },
          "metadata": {
            "needs_background": "light"
          }
        }
      ]
    },
    {
      "cell_type": "code",
      "metadata": {
        "colab": {
          "base_uri": "https://localhost:8080/",
          "height": 281
        },
        "id": "JEpVXBMOzUMm",
        "outputId": "4ba7780b-5cdb-4548-d177-e714505dbb42"
      },
      "source": [
        "minuman = df['Type_Minuman']\n",
        "\n",
        "sns.countplot(\"Type_Minuman\", data=df)\n",
        "plt.show()"
      ],
      "execution_count": null,
      "outputs": [
        {
          "output_type": "display_data",
          "data": {
            "image/png": "[encoded data removed]",
            "text/plain": [
              "<Figure size 432x288 with 1 Axes>"
            ]
          },
          "metadata": {
            "needs_background": "light"
          }
        }
      ]
    },
    {
      "cell_type": "code",
      "metadata": {
        "id": "DEEDg5jUj1XT",
        "colab": {
          "base_uri": "https://localhost:8080/"
        },
        "outputId": "4fa87bd0-6bff-4a9e-cf05-63264de598af"
      },
      "source": [
        "df.isnull().sum()"
      ],
      "execution_count": null,
      "outputs": [
        {
          "output_type": "execute_result",
          "data": {
            "text/plain": [
              "Timestamp         0\n",
              "Type_Makanan      0\n",
              "Code_Makanan      0\n",
              "Amount_Makanan    0\n",
              "Type_Minuman      0\n",
              "Code_Minuman      0\n",
              "Amount_Minuman    0\n",
              "Gender            0\n",
              "Payment           0\n",
              "dtype: int64"
            ]
          },
          "metadata": {},
          "execution_count": 124
        }
      ]
    },
    {
      "cell_type": "code",
      "metadata": {
        "id": "wZNl56t0j5H5",
        "colab": {
          "base_uri": "https://localhost:8080/",
          "height": 300
        },
        "outputId": "ae9c0d58-05c9-45b4-d6d7-96bf691b139b"
      },
      "source": [
        "df.describe()"
      ],
      "execution_count": null,
      "outputs": [
        {
          "output_type": "execute_result",
          "data": {
            "text/html": [
              "<div>\n",
              "<style scoped>\n",
              "    .dataframe tbody tr th:only-of-type {\n",
              "        vertical-align: middle;\n",
              "    }\n",
              "\n",
              "    .dataframe tbody tr th {\n",
              "        vertical-align: top;\n",
              "    }\n",
              "\n",
              "    .dataframe thead th {\n",
              "        text-align: right;\n",
              "    }\n",
              "</style>\n",
              "<table border=\"1\" class=\"dataframe\">\n",
              "  <thead>\n",
              "    <tr style=\"text-align: right;\">\n",
              "      <th></th>\n",
              "      <th>Code_Makanan</th>\n",
              "      <th>Amount_Makanan</th>\n",
              "      <th>Code_Minuman</th>\n",
              "      <th>Amount_Minuman</th>\n",
              "      <th>Gender</th>\n",
              "    </tr>\n",
              "  </thead>\n",
              "  <tbody>\n",
              "    <tr>\n",
              "      <th>count</th>\n",
              "      <td>347.000000</td>\n",
              "      <td>347.000000</td>\n",
              "      <td>347.000000</td>\n",
              "      <td>347.000000</td>\n",
              "      <td>347.000000</td>\n",
              "    </tr>\n",
              "    <tr>\n",
              "      <th>mean</th>\n",
              "      <td>3.175793</td>\n",
              "      <td>6.164265</td>\n",
              "      <td>2.273775</td>\n",
              "      <td>4.190202</td>\n",
              "      <td>0.466859</td>\n",
              "    </tr>\n",
              "    <tr>\n",
              "      <th>std</th>\n",
              "      <td>1.674595</td>\n",
              "      <td>3.396546</td>\n",
              "      <td>1.097806</td>\n",
              "      <td>2.639981</td>\n",
              "      <td>0.499621</td>\n",
              "    </tr>\n",
              "    <tr>\n",
              "      <th>min</th>\n",
              "      <td>1.000000</td>\n",
              "      <td>1.000000</td>\n",
              "      <td>1.000000</td>\n",
              "      <td>1.000000</td>\n",
              "      <td>0.000000</td>\n",
              "    </tr>\n",
              "    <tr>\n",
              "      <th>25%</th>\n",
              "      <td>2.000000</td>\n",
              "      <td>3.000000</td>\n",
              "      <td>1.000000</td>\n",
              "      <td>2.500000</td>\n",
              "      <td>0.000000</td>\n",
              "    </tr>\n",
              "    <tr>\n",
              "      <th>50%</th>\n",
              "      <td>3.000000</td>\n",
              "      <td>6.000000</td>\n",
              "      <td>2.000000</td>\n",
              "      <td>3.000000</td>\n",
              "      <td>0.000000</td>\n",
              "    </tr>\n",
              "    <tr>\n",
              "      <th>75%</th>\n",
              "      <td>4.000000</td>\n",
              "      <td>9.000000</td>\n",
              "      <td>3.000000</td>\n",
              "      <td>5.000000</td>\n",
              "      <td>1.000000</td>\n",
              "    </tr>\n",
              "    <tr>\n",
              "      <th>max</th>\n",
              "      <td>6.000000</td>\n",
              "      <td>12.000000</td>\n",
              "      <td>4.000000</td>\n",
              "      <td>10.000000</td>\n",
              "      <td>1.000000</td>\n",
              "    </tr>\n",
              "  </tbody>\n",
              "</table>\n",
              "</div>"
            ],
            "text/plain": [
              "       Code_Makanan  Amount_Makanan  Code_Minuman  Amount_Minuman      Gender\n",
              "count    347.000000      347.000000    347.000000      347.000000  347.000000\n",
              "mean       3.175793        6.164265      2.273775        4.190202    0.466859\n",
              "std        1.674595        3.396546      1.097806        2.639981    0.499621\n",
              "min        1.000000        1.000000      1.000000        1.000000    0.000000\n",
              "25%        2.000000        3.000000      1.000000        2.500000    0.000000\n",
              "50%        3.000000        6.000000      2.000000        3.000000    0.000000\n",
              "75%        4.000000        9.000000      3.000000        5.000000    1.000000\n",
              "max        6.000000       12.000000      4.000000       10.000000    1.000000"
            ]
          },
          "metadata": {},
          "execution_count": 125
        }
      ]
    },
    {
      "cell_type": "code",
      "metadata": {
        "colab": {
          "base_uri": "https://localhost:8080/"
        },
        "id": "aU5JdLWEvFOj",
        "outputId": "3c29e6e0-4e34-4651-f310-99ca64e36080"
      },
      "source": [
        "df['Timestamp'].unique()"
      ],
      "execution_count": null,
      "outputs": [
        {
          "output_type": "execute_result",
          "data": {
            "text/plain": [
              "array(['10:01', '10:04', '10:05', '10:06', '10:07', '10:08', '10:09',\n",
              "       '10:11', '10:12', '10:16', '10:17', '10:19', '10:20', '10:24',\n",
              "       '10:25', '10:26', '10:33', '10:37', '10:38', '10:39', '10:43',\n",
              "       '10:44', '10:45', '10:48', '10:49', '10:53', '10:54', '10:58',\n",
              "       '10:59', '11:02', '11:05', '11:07', '11:08', '11:10', '11:14',\n",
              "       '11:17', '11:19', '11:20', '11:21', '11:22', '11:23', '11:24',\n",
              "       '11:25', '11:26', '11:27', '11:28', '11:29', '11:30', '11:31',\n",
              "       '11:32', '11:34', '11:35', '11:37', '11:38', '11:40', '11:42',\n",
              "       '11:43', '11:44', '11:45', '11:46', '11:47', '11:48', '11:49',\n",
              "       '11:50', '11:51', '11:52', '11:53', '11:58', '11:59', '12:04',\n",
              "       '12:05', '12:06', '12:07', '12:08', '12:11', '12:12', '12:15',\n",
              "       '12:18', '12:20', '12:22', '12:24', '12:30', '12:34', '12:36',\n",
              "       '12:38', '12:39', '12:40', '12:45', '12:48', '12:50', '12:52',\n",
              "       '12:54', '12:56', '12:58', '13:00', '13:01', '13:03', '13:05',\n",
              "       '13:07', '13:10', '13:12', '13:14', '13:16', '13:20', '13:22',\n",
              "       '13:24', '13:28', '13:30', '13:33', '13:35', '13:38', '13:41',\n",
              "       '13:45', '13:48', '13:49', '13:52', '13:55', '13:57', '14:01',\n",
              "       '14:04', '14:07', '14:10', '14:13', '14:16', '14:18', '14:21',\n",
              "       '14:23', '14:25', '14:29', '14:32', '14:35', '14:37', '14:40',\n",
              "       '14:43', '14:46', '14:48', '14:50', '14:52', '14:54', '14:56',\n",
              "       '14:58', '15:00', '15:04', '15:07', '15:09', '15:11', '15:13',\n",
              "       '15:15', '15:18', '15:20', '15:22', '15:25', '15:28', '15:31',\n",
              "       '15:35', '15:37', '15:39', '15:41', '15:49', '15:54', '15:56',\n",
              "       '15:58', '16:04', '16:07', '16:09', '16:11', '16:16', '16:19',\n",
              "       '16:21', '16:26', '16:28', '16:30', '16:34', '16:38', '16:41',\n",
              "       '16:43', '16:45', '16:49', '16:52', '16:55', '16:58', '17:00',\n",
              "       '17:04', '17:08', '17:10', '17:12', '17:14', '17:18', '17:21',\n",
              "       '17:23', '17:25', '17:28', '17:30', '17:32', '17:34', '17:38',\n",
              "       '17:40', '17:43', '17:45', '17:47', '17:51', '17:53', '17:54',\n",
              "       '17:55', '17:57', '17:58', '18:00', '18:02', '18:04', '18:05',\n",
              "       '18:07', '18:09', '18:12', '18:13', '18:15', '18:18', '18:20',\n",
              "       '18:21', '18:23', '18:25', '18:27', '18:29', '18:31', '18:33',\n",
              "       '18:35', '18:37', '18:39', '18:40', '18:43', '18:44', '18:46',\n",
              "       '18:47', '18:50', '18:52', '18:53', '18:55', '18:57', '18:58',\n",
              "       '19:00', '19:02', '19:03', '19:07', '19:12', '19:14', '19:16',\n",
              "       '19:18', '19:19', '19:21', '19:23', '19:26', '19:28', '19:30',\n",
              "       '19:32', '19:35', '19:36', '19:38', '19:39', '19:42', '19:43',\n",
              "       '19:45', '19:47', '19:48', '19:50', '19:52', '19:55', '19:57',\n",
              "       '19:59', '20:01', '20:04', '20:08', '20:11', '20:13', '20:17',\n",
              "       '20:19', '20:22', '20:27', '20:30', '20:32', '20:34', '20:36',\n",
              "       '20:38', '20:41', '20:44', '20:46', '20:49', '20:51', '20:55',\n",
              "       '20:58', '21:00', '21:02', '21:05', '21:07', '21:09', '21:12',\n",
              "       '21:15', '21:18', '21:20', '21:22', '21:26', '21:28', '21:30',\n",
              "       '21:32', '21:34', '21:37', '21:39', '21:41', '21:44', '21:47',\n",
              "       '21:50', '21:53', '21:55', '21:57', '10:00', '10:14', '10:18',\n",
              "       '10:22', '10:27', '10:29', '10:31', '10:36', '10:41', '10:46',\n",
              "       '10:51', '10:56', '11:00', '11:03', '11:04', '11:11', '11:13'],\n",
              "      dtype=object)"
            ]
          },
          "metadata": {},
          "execution_count": 126
        }
      ]
    },
    {
      "cell_type": "code",
      "metadata": {
        "colab": {
          "base_uri": "https://localhost:8080/"
        },
        "id": "dhSjF6k7vQG4",
        "outputId": "1895809f-33da-416b-b23d-892241bfc886"
      },
      "source": [
        "len(df['Timestamp'].unique())"
      ],
      "execution_count": null,
      "outputs": [
        {
          "output_type": "execute_result",
          "data": {
            "text/plain": [
              "329"
            ]
          },
          "metadata": {},
          "execution_count": 127
        }
      ]
    },
    {
      "cell_type": "code",
      "metadata": {
        "id": "aW-DRN_gTXtT"
      },
      "source": [
        "df.drop(['Timestamp'], axis=1, inplace=True)"
      ],
      "execution_count": null,
      "outputs": []
    },
    {
      "cell_type": "code",
      "metadata": {
        "colab": {
          "base_uri": "https://localhost:8080/"
        },
        "id": "EK0Hfik3sH6e",
        "outputId": "9a3ddf6e-2ba2-4b09-e3ba-4b5c5607c0c2"
      },
      "source": [
        "len(df['Type_Makanan'].unique())"
      ],
      "execution_count": null,
      "outputs": [
        {
          "output_type": "execute_result",
          "data": {
            "text/plain": [
              "6"
            ]
          },
          "metadata": {},
          "execution_count": 129
        }
      ]
    },
    {
      "cell_type": "code",
      "metadata": {
        "colab": {
          "base_uri": "https://localhost:8080/"
        },
        "id": "WDVIItzUwih3",
        "outputId": "5bf58c4c-f18c-4380-f30d-4ee2e5e038f9"
      },
      "source": [
        "df.info()"
      ],
      "execution_count": null,
      "outputs": [
        {
          "output_type": "stream",
          "name": "stdout",
          "text": [
            "<class 'pandas.core.frame.DataFrame'>\n",
            "RangeIndex: 347 entries, 0 to 346\n",
            "Data columns (total 8 columns):\n",
            " #   Column          Non-Null Count  Dtype \n",
            "---  ------          --------------  ----- \n",
            " 0   Type_Makanan    347 non-null    object\n",
            " 1   Code_Makanan    347 non-null    int64 \n",
            " 2   Amount_Makanan  347 non-null    int64 \n",
            " 3   Type_Minuman    347 non-null    object\n",
            " 4   Code_Minuman    347 non-null    int64 \n",
            " 5   Amount_Minuman  347 non-null    int64 \n",
            " 6   Gender          347 non-null    int64 \n",
            " 7   Payment         347 non-null    object\n",
            "dtypes: int64(5), object(3)\n",
            "memory usage: 21.8+ KB\n"
          ]
        }
      ]
    },
    {
      "cell_type": "code",
      "metadata": {
        "colab": {
          "base_uri": "https://localhost:8080/",
          "height": 206
        },
        "id": "mttVOlwywnpc",
        "outputId": "ccb456c9-4663-4f6d-dd96-c947afe9aae3"
      },
      "source": [
        "df.head()"
      ],
      "execution_count": null,
      "outputs": [
        {
          "output_type": "execute_result",
          "data": {
            "text/html": [
              "<div>\n",
              "<style scoped>\n",
              "    .dataframe tbody tr th:only-of-type {\n",
              "        vertical-align: middle;\n",
              "    }\n",
              "\n",
              "    .dataframe tbody tr th {\n",
              "        vertical-align: top;\n",
              "    }\n",
              "\n",
              "    .dataframe thead th {\n",
              "        text-align: right;\n",
              "    }\n",
              "</style>\n",
              "<table border=\"1\" class=\"dataframe\">\n",
              "  <thead>\n",
              "    <tr style=\"text-align: right;\">\n",
              "      <th></th>\n",
              "      <th>Type_Makanan</th>\n",
              "      <th>Code_Makanan</th>\n",
              "      <th>Amount_Makanan</th>\n",
              "      <th>Type_Minuman</th>\n",
              "      <th>Code_Minuman</th>\n",
              "      <th>Amount_Minuman</th>\n",
              "      <th>Gender</th>\n",
              "      <th>Payment</th>\n",
              "    </tr>\n",
              "  </thead>\n",
              "  <tbody>\n",
              "    <tr>\n",
              "      <th>0</th>\n",
              "      <td>Bakso kuah</td>\n",
              "      <td>1</td>\n",
              "      <td>6</td>\n",
              "      <td>Es teh</td>\n",
              "      <td>1</td>\n",
              "      <td>3</td>\n",
              "      <td>1</td>\n",
              "      <td>DANA</td>\n",
              "    </tr>\n",
              "    <tr>\n",
              "      <th>1</th>\n",
              "      <td>Mie ayam bakso</td>\n",
              "      <td>3</td>\n",
              "      <td>12</td>\n",
              "      <td>Es jeruk</td>\n",
              "      <td>2</td>\n",
              "      <td>10</td>\n",
              "      <td>0</td>\n",
              "      <td>DANA</td>\n",
              "    </tr>\n",
              "    <tr>\n",
              "      <th>2</th>\n",
              "      <td>Ayam bakar</td>\n",
              "      <td>4</td>\n",
              "      <td>10</td>\n",
              "      <td>Es teh</td>\n",
              "      <td>1</td>\n",
              "      <td>5</td>\n",
              "      <td>0</td>\n",
              "      <td>LINK AJA</td>\n",
              "    </tr>\n",
              "    <tr>\n",
              "      <th>3</th>\n",
              "      <td>Nasi goreng</td>\n",
              "      <td>2</td>\n",
              "      <td>9</td>\n",
              "      <td>Mineral water</td>\n",
              "      <td>3</td>\n",
              "      <td>9</td>\n",
              "      <td>0</td>\n",
              "      <td>DANA</td>\n",
              "    </tr>\n",
              "    <tr>\n",
              "      <th>4</th>\n",
              "      <td>Soto</td>\n",
              "      <td>6</td>\n",
              "      <td>11</td>\n",
              "      <td>Es jeruk</td>\n",
              "      <td>2</td>\n",
              "      <td>3</td>\n",
              "      <td>1</td>\n",
              "      <td>DANA</td>\n",
              "    </tr>\n",
              "  </tbody>\n",
              "</table>\n",
              "</div>"
            ],
            "text/plain": [
              "     Type_Makanan  Code_Makanan  ...  Gender   Payment\n",
              "0      Bakso kuah             1  ...       1      DANA\n",
              "1  Mie ayam bakso             3  ...       0      DANA\n",
              "2      Ayam bakar             4  ...       0  LINK AJA\n",
              "3     Nasi goreng             2  ...       0      DANA\n",
              "4            Soto             6  ...       1      DANA\n",
              "\n",
              "[5 rows x 8 columns]"
            ]
          },
          "metadata": {},
          "execution_count": 131
        }
      ]
    },
    {
      "cell_type": "code",
      "metadata": {
        "id": "g8LuMKlNwsQs"
      },
      "source": [
        "X = df\n",
        "y = df['Type_Makanan']"
      ],
      "execution_count": null,
      "outputs": []
    },
    {
      "cell_type": "code",
      "metadata": {
        "id": "RG-08-C-x17Q"
      },
      "source": [
        "from sklearn.preprocessing import LabelEncoder\n",
        "le = LabelEncoder()\n",
        "X['Type_Makanan'] = le.fit_transform(X['Type_Makanan'])\n",
        "y = le.transform(y)"
      ],
      "execution_count": null,
      "outputs": []
    },
    {
      "cell_type": "code",
      "metadata": {
        "colab": {
          "base_uri": "https://localhost:8080/"
        },
        "id": "_obS5PTDxuuc",
        "outputId": "2a569733-f2d6-4618-86ab-d4ca77e66147"
      },
      "source": [
        "X.info()"
      ],
      "execution_count": null,
      "outputs": [
        {
          "output_type": "stream",
          "name": "stdout",
          "text": [
            "<class 'pandas.core.frame.DataFrame'>\n",
            "RangeIndex: 347 entries, 0 to 346\n",
            "Data columns (total 8 columns):\n",
            " #   Column          Non-Null Count  Dtype \n",
            "---  ------          --------------  ----- \n",
            " 0   Type_Makanan    347 non-null    int64 \n",
            " 1   Code_Makanan    347 non-null    int64 \n",
            " 2   Amount_Makanan  347 non-null    int64 \n",
            " 3   Type_Minuman    347 non-null    object\n",
            " 4   Code_Minuman    347 non-null    int64 \n",
            " 5   Amount_Minuman  347 non-null    int64 \n",
            " 6   Gender          347 non-null    int64 \n",
            " 7   Payment         347 non-null    object\n",
            "dtypes: int64(6), object(2)\n",
            "memory usage: 21.8+ KB\n"
          ]
        }
      ]
    },
    {
      "cell_type": "code",
      "metadata": {
        "colab": {
          "base_uri": "https://localhost:8080/",
          "height": 206
        },
        "id": "tCtxsCmVxu4-",
        "outputId": "9c6fb133-e73f-4d8b-ec27-903438130e02"
      },
      "source": [
        "X.head()"
      ],
      "execution_count": null,
      "outputs": [
        {
          "output_type": "execute_result",
          "data": {
            "text/html": [
              "<div>\n",
              "<style scoped>\n",
              "    .dataframe tbody tr th:only-of-type {\n",
              "        vertical-align: middle;\n",
              "    }\n",
              "\n",
              "    .dataframe tbody tr th {\n",
              "        vertical-align: top;\n",
              "    }\n",
              "\n",
              "    .dataframe thead th {\n",
              "        text-align: right;\n",
              "    }\n",
              "</style>\n",
              "<table border=\"1\" class=\"dataframe\">\n",
              "  <thead>\n",
              "    <tr style=\"text-align: right;\">\n",
              "      <th></th>\n",
              "      <th>Type_Makanan</th>\n",
              "      <th>Code_Makanan</th>\n",
              "      <th>Amount_Makanan</th>\n",
              "      <th>Type_Minuman</th>\n",
              "      <th>Code_Minuman</th>\n",
              "      <th>Amount_Minuman</th>\n",
              "      <th>Gender</th>\n",
              "      <th>Payment</th>\n",
              "    </tr>\n",
              "  </thead>\n",
              "  <tbody>\n",
              "    <tr>\n",
              "      <th>0</th>\n",
              "      <td>2</td>\n",
              "      <td>1</td>\n",
              "      <td>6</td>\n",
              "      <td>Es teh</td>\n",
              "      <td>1</td>\n",
              "      <td>3</td>\n",
              "      <td>1</td>\n",
              "      <td>DANA</td>\n",
              "    </tr>\n",
              "    <tr>\n",
              "      <th>1</th>\n",
              "      <td>3</td>\n",
              "      <td>3</td>\n",
              "      <td>12</td>\n",
              "      <td>Es jeruk</td>\n",
              "      <td>2</td>\n",
              "      <td>10</td>\n",
              "      <td>0</td>\n",
              "      <td>DANA</td>\n",
              "    </tr>\n",
              "    <tr>\n",
              "      <th>2</th>\n",
              "      <td>0</td>\n",
              "      <td>4</td>\n",
              "      <td>10</td>\n",
              "      <td>Es teh</td>\n",
              "      <td>1</td>\n",
              "      <td>5</td>\n",
              "      <td>0</td>\n",
              "      <td>LINK AJA</td>\n",
              "    </tr>\n",
              "    <tr>\n",
              "      <th>3</th>\n",
              "      <td>4</td>\n",
              "      <td>2</td>\n",
              "      <td>9</td>\n",
              "      <td>Mineral water</td>\n",
              "      <td>3</td>\n",
              "      <td>9</td>\n",
              "      <td>0</td>\n",
              "      <td>DANA</td>\n",
              "    </tr>\n",
              "    <tr>\n",
              "      <th>4</th>\n",
              "      <td>5</td>\n",
              "      <td>6</td>\n",
              "      <td>11</td>\n",
              "      <td>Es jeruk</td>\n",
              "      <td>2</td>\n",
              "      <td>3</td>\n",
              "      <td>1</td>\n",
              "      <td>DANA</td>\n",
              "    </tr>\n",
              "  </tbody>\n",
              "</table>\n",
              "</div>"
            ],
            "text/plain": [
              "   Type_Makanan  Code_Makanan  Amount_Makanan  ... Amount_Minuman  Gender   Payment\n",
              "0             2             1               6  ...              3       1      DANA\n",
              "1             3             3              12  ...             10       0      DANA\n",
              "2             0             4              10  ...              5       0  LINK AJA\n",
              "3             4             2               9  ...              9       0      DANA\n",
              "4             5             6              11  ...              3       1      DANA\n",
              "\n",
              "[5 rows x 8 columns]"
            ]
          },
          "metadata": {},
          "execution_count": 135
        }
      ]
    },
    {
      "cell_type": "code",
      "metadata": {
        "id": "cE9GzbdVyZOZ"
      },
      "source": [
        "cols = X.columns"
      ],
      "execution_count": null,
      "outputs": []
    },
    {
      "cell_type": "code",
      "metadata": {
        "id": "xm0cO_e-_bpW"
      },
      "source": [
        "X = df\n",
        "y = df['Type_Minuman']"
      ],
      "execution_count": null,
      "outputs": []
    },
    {
      "cell_type": "code",
      "metadata": {
        "id": "W1lniSy8_PPR"
      },
      "source": [
        "from sklearn.preprocessing import LabelEncoder\n",
        "le = LabelEncoder()\n",
        "X['Type_Minuman'] = le.fit_transform(X['Type_Minuman'])\n",
        "y = le.transform(y)"
      ],
      "execution_count": null,
      "outputs": []
    },
    {
      "cell_type": "code",
      "metadata": {
        "colab": {
          "base_uri": "https://localhost:8080/",
          "height": 206
        },
        "id": "R51Fnujg_rPj",
        "outputId": "e4fa167e-b7bc-471a-ac00-78e7fd8c0fdf"
      },
      "source": [
        "X.head()"
      ],
      "execution_count": null,
      "outputs": [
        {
          "output_type": "execute_result",
          "data": {
            "text/html": [
              "<div>\n",
              "<style scoped>\n",
              "    .dataframe tbody tr th:only-of-type {\n",
              "        vertical-align: middle;\n",
              "    }\n",
              "\n",
              "    .dataframe tbody tr th {\n",
              "        vertical-align: top;\n",
              "    }\n",
              "\n",
              "    .dataframe thead th {\n",
              "        text-align: right;\n",
              "    }\n",
              "</style>\n",
              "<table border=\"1\" class=\"dataframe\">\n",
              "  <thead>\n",
              "    <tr style=\"text-align: right;\">\n",
              "      <th></th>\n",
              "      <th>Type_Makanan</th>\n",
              "      <th>Code_Makanan</th>\n",
              "      <th>Amount_Makanan</th>\n",
              "      <th>Type_Minuman</th>\n",
              "      <th>Code_Minuman</th>\n",
              "      <th>Amount_Minuman</th>\n",
              "      <th>Gender</th>\n",
              "      <th>Payment</th>\n",
              "    </tr>\n",
              "  </thead>\n",
              "  <tbody>\n",
              "    <tr>\n",
              "      <th>0</th>\n",
              "      <td>2</td>\n",
              "      <td>1</td>\n",
              "      <td>6</td>\n",
              "      <td>2</td>\n",
              "      <td>1</td>\n",
              "      <td>3</td>\n",
              "      <td>1</td>\n",
              "      <td>DANA</td>\n",
              "    </tr>\n",
              "    <tr>\n",
              "      <th>1</th>\n",
              "      <td>3</td>\n",
              "      <td>3</td>\n",
              "      <td>12</td>\n",
              "      <td>1</td>\n",
              "      <td>2</td>\n",
              "      <td>10</td>\n",
              "      <td>0</td>\n",
              "      <td>DANA</td>\n",
              "    </tr>\n",
              "    <tr>\n",
              "      <th>2</th>\n",
              "      <td>0</td>\n",
              "      <td>4</td>\n",
              "      <td>10</td>\n",
              "      <td>2</td>\n",
              "      <td>1</td>\n",
              "      <td>5</td>\n",
              "      <td>0</td>\n",
              "      <td>LINK AJA</td>\n",
              "    </tr>\n",
              "    <tr>\n",
              "      <th>3</th>\n",
              "      <td>4</td>\n",
              "      <td>2</td>\n",
              "      <td>9</td>\n",
              "      <td>3</td>\n",
              "      <td>3</td>\n",
              "      <td>9</td>\n",
              "      <td>0</td>\n",
              "      <td>DANA</td>\n",
              "    </tr>\n",
              "    <tr>\n",
              "      <th>4</th>\n",
              "      <td>5</td>\n",
              "      <td>6</td>\n",
              "      <td>11</td>\n",
              "      <td>1</td>\n",
              "      <td>2</td>\n",
              "      <td>3</td>\n",
              "      <td>1</td>\n",
              "      <td>DANA</td>\n",
              "    </tr>\n",
              "  </tbody>\n",
              "</table>\n",
              "</div>"
            ],
            "text/plain": [
              "   Type_Makanan  Code_Makanan  Amount_Makanan  ...  Amount_Minuman  Gender   Payment\n",
              "0             2             1               6  ...               3       1      DANA\n",
              "1             3             3              12  ...              10       0      DANA\n",
              "2             0             4              10  ...               5       0  LINK AJA\n",
              "3             4             2               9  ...               9       0      DANA\n",
              "4             5             6              11  ...               3       1      DANA\n",
              "\n",
              "[5 rows x 8 columns]"
            ]
          },
          "metadata": {},
          "execution_count": 139
        }
      ]
    },
    {
      "cell_type": "code",
      "metadata": {
        "id": "X8Jf95MS_5Aq"
      },
      "source": [
        "X = df\n",
        "y = df['Payment']"
      ],
      "execution_count": null,
      "outputs": []
    },
    {
      "cell_type": "code",
      "metadata": {
        "id": "5TlIopHz_90P"
      },
      "source": [
        "from sklearn.preprocessing import LabelEncoder\n",
        "le = LabelEncoder()\n",
        "X['Payment'] = le.fit_transform(X['Payment'])\n",
        "y = le.transform(y)"
      ],
      "execution_count": null,
      "outputs": []
    },
    {
      "cell_type": "code",
      "metadata": {
        "colab": {
          "base_uri": "https://localhost:8080/",
          "height": 206
        },
        "id": "WkUk50o-SjF0",
        "outputId": "1e745996-9881-4894-9d7c-23c2bfc3e980"
      },
      "source": [
        "X.head()"
      ],
      "execution_count": null,
      "outputs": [
        {
          "output_type": "execute_result",
          "data": {
            "text/html": [
              "<div>\n",
              "<style scoped>\n",
              "    .dataframe tbody tr th:only-of-type {\n",
              "        vertical-align: middle;\n",
              "    }\n",
              "\n",
              "    .dataframe tbody tr th {\n",
              "        vertical-align: top;\n",
              "    }\n",
              "\n",
              "    .dataframe thead th {\n",
              "        text-align: right;\n",
              "    }\n",
              "</style>\n",
              "<table border=\"1\" class=\"dataframe\">\n",
              "  <thead>\n",
              "    <tr style=\"text-align: right;\">\n",
              "      <th></th>\n",
              "      <th>Type_Makanan</th>\n",
              "      <th>Code_Makanan</th>\n",
              "      <th>Amount_Makanan</th>\n",
              "      <th>Type_Minuman</th>\n",
              "      <th>Code_Minuman</th>\n",
              "      <th>Amount_Minuman</th>\n",
              "      <th>Gender</th>\n",
              "      <th>Payment</th>\n",
              "    </tr>\n",
              "  </thead>\n",
              "  <tbody>\n",
              "    <tr>\n",
              "      <th>0</th>\n",
              "      <td>2</td>\n",
              "      <td>1</td>\n",
              "      <td>6</td>\n",
              "      <td>2</td>\n",
              "      <td>1</td>\n",
              "      <td>3</td>\n",
              "      <td>1</td>\n",
              "      <td>0</td>\n",
              "    </tr>\n",
              "    <tr>\n",
              "      <th>1</th>\n",
              "      <td>3</td>\n",
              "      <td>3</td>\n",
              "      <td>12</td>\n",
              "      <td>1</td>\n",
              "      <td>2</td>\n",
              "      <td>10</td>\n",
              "      <td>0</td>\n",
              "      <td>0</td>\n",
              "    </tr>\n",
              "    <tr>\n",
              "      <th>2</th>\n",
              "      <td>0</td>\n",
              "      <td>4</td>\n",
              "      <td>10</td>\n",
              "      <td>2</td>\n",
              "      <td>1</td>\n",
              "      <td>5</td>\n",
              "      <td>0</td>\n",
              "      <td>2</td>\n",
              "    </tr>\n",
              "    <tr>\n",
              "      <th>3</th>\n",
              "      <td>4</td>\n",
              "      <td>2</td>\n",
              "      <td>9</td>\n",
              "      <td>3</td>\n",
              "      <td>3</td>\n",
              "      <td>9</td>\n",
              "      <td>0</td>\n",
              "      <td>0</td>\n",
              "    </tr>\n",
              "    <tr>\n",
              "      <th>4</th>\n",
              "      <td>5</td>\n",
              "      <td>6</td>\n",
              "      <td>11</td>\n",
              "      <td>1</td>\n",
              "      <td>2</td>\n",
              "      <td>3</td>\n",
              "      <td>1</td>\n",
              "      <td>0</td>\n",
              "    </tr>\n",
              "  </tbody>\n",
              "</table>\n",
              "</div>"
            ],
            "text/plain": [
              "   Type_Makanan  Code_Makanan  Amount_Makanan  ...  Amount_Minuman  Gender  Payment\n",
              "0             2             1               6  ...               3       1        0\n",
              "1             3             3              12  ...              10       0        0\n",
              "2             0             4              10  ...               5       0        2\n",
              "3             4             2               9  ...               9       0        0\n",
              "4             5             6              11  ...               3       1        0\n",
              "\n",
              "[5 rows x 8 columns]"
            ]
          },
          "metadata": {},
          "execution_count": 142
        }
      ]
    },
    {
      "cell_type": "code",
      "metadata": {
        "id": "JEL9BH8Uyd4v"
      },
      "source": [
        "from sklearn.preprocessing import MinMaxScaler\n",
        "\n",
        "ms = MinMaxScaler()\n",
        "X = ms.fit_transform(X)"
      ],
      "execution_count": null,
      "outputs": []
    },
    {
      "cell_type": "code",
      "metadata": {
        "id": "_IXNTB26yncw"
      },
      "source": [
        "X = pd.DataFrame(X, columns=[cols])"
      ],
      "execution_count": null,
      "outputs": []
    },
    {
      "cell_type": "code",
      "metadata": {
        "colab": {
          "base_uri": "https://localhost:8080/",
          "height": 206
        },
        "id": "zv07AtL4yr3L",
        "outputId": "e1623c37-fd71-4c3c-c04a-f1202abd57da"
      },
      "source": [
        "X.head()"
      ],
      "execution_count": null,
      "outputs": [
        {
          "output_type": "execute_result",
          "data": {
            "text/html": [
              "<div>\n",
              "<style scoped>\n",
              "    .dataframe tbody tr th:only-of-type {\n",
              "        vertical-align: middle;\n",
              "    }\n",
              "\n",
              "    .dataframe tbody tr th {\n",
              "        vertical-align: top;\n",
              "    }\n",
              "\n",
              "    .dataframe thead tr th {\n",
              "        text-align: left;\n",
              "    }\n",
              "</style>\n",
              "<table border=\"1\" class=\"dataframe\">\n",
              "  <thead>\n",
              "    <tr>\n",
              "      <th></th>\n",
              "      <th>Type_Makanan</th>\n",
              "      <th>Code_Makanan</th>\n",
              "      <th>Amount_Makanan</th>\n",
              "      <th>Type_Minuman</th>\n",
              "      <th>Code_Minuman</th>\n",
              "      <th>Amount_Minuman</th>\n",
              "      <th>Gender</th>\n",
              "      <th>Payment</th>\n",
              "    </tr>\n",
              "  </thead>\n",
              "  <tbody>\n",
              "    <tr>\n",
              "      <th>0</th>\n",
              "      <td>0.4</td>\n",
              "      <td>0.0</td>\n",
              "      <td>0.454545</td>\n",
              "      <td>0.666667</td>\n",
              "      <td>0.000000</td>\n",
              "      <td>0.222222</td>\n",
              "      <td>1.0</td>\n",
              "      <td>0.0</td>\n",
              "    </tr>\n",
              "    <tr>\n",
              "      <th>1</th>\n",
              "      <td>0.6</td>\n",
              "      <td>0.4</td>\n",
              "      <td>1.000000</td>\n",
              "      <td>0.333333</td>\n",
              "      <td>0.333333</td>\n",
              "      <td>1.000000</td>\n",
              "      <td>0.0</td>\n",
              "      <td>0.0</td>\n",
              "    </tr>\n",
              "    <tr>\n",
              "      <th>2</th>\n",
              "      <td>0.0</td>\n",
              "      <td>0.6</td>\n",
              "      <td>0.818182</td>\n",
              "      <td>0.666667</td>\n",
              "      <td>0.000000</td>\n",
              "      <td>0.444444</td>\n",
              "      <td>0.0</td>\n",
              "      <td>0.5</td>\n",
              "    </tr>\n",
              "    <tr>\n",
              "      <th>3</th>\n",
              "      <td>0.8</td>\n",
              "      <td>0.2</td>\n",
              "      <td>0.727273</td>\n",
              "      <td>1.000000</td>\n",
              "      <td>0.666667</td>\n",
              "      <td>0.888889</td>\n",
              "      <td>0.0</td>\n",
              "      <td>0.0</td>\n",
              "    </tr>\n",
              "    <tr>\n",
              "      <th>4</th>\n",
              "      <td>1.0</td>\n",
              "      <td>1.0</td>\n",
              "      <td>0.909091</td>\n",
              "      <td>0.333333</td>\n",
              "      <td>0.333333</td>\n",
              "      <td>0.222222</td>\n",
              "      <td>1.0</td>\n",
              "      <td>0.0</td>\n",
              "    </tr>\n",
              "  </tbody>\n",
              "</table>\n",
              "</div>"
            ],
            "text/plain": [
              "  Type_Makanan Code_Makanan Amount_Makanan  ... Amount_Minuman Gender Payment\n",
              "0          0.4          0.0       0.454545  ...       0.222222    1.0     0.0\n",
              "1          0.6          0.4       1.000000  ...       1.000000    0.0     0.0\n",
              "2          0.0          0.6       0.818182  ...       0.444444    0.0     0.5\n",
              "3          0.8          0.2       0.727273  ...       0.888889    0.0     0.0\n",
              "4          1.0          1.0       0.909091  ...       0.222222    1.0     0.0\n",
              "\n",
              "[5 rows x 8 columns]"
            ]
          },
          "metadata": {},
          "execution_count": 145
        }
      ]
    },
    {
      "cell_type": "code",
      "metadata": {
        "colab": {
          "base_uri": "https://localhost:8080/"
        },
        "id": "8ZS64b1pE0Y5",
        "outputId": "670e732b-138f-44b8-d977-34382d978d28"
      },
      "source": [
        "df.isnull().sum()"
      ],
      "execution_count": null,
      "outputs": [
        {
          "output_type": "execute_result",
          "data": {
            "text/plain": [
              "Type_Makanan      0\n",
              "Code_Makanan      0\n",
              "Amount_Makanan    0\n",
              "Type_Minuman      0\n",
              "Code_Minuman      0\n",
              "Amount_Minuman    0\n",
              "Gender            0\n",
              "Payment           0\n",
              "dtype: int64"
            ]
          },
          "metadata": {},
          "execution_count": 146
        }
      ]
    },
    {
      "cell_type": "markdown",
      "metadata": {
        "id": "g2pCw5xaZQle"
      },
      "source": [
        "# Random Forest"
      ]
    },
    {
      "cell_type": "code",
      "metadata": {
        "id": "ggeF4Za5KRTo"
      },
      "source": [
        "from sklearn.ensemble import RandomForestClassifier\n",
        "from sklearn.metrics import classification_report"
      ],
      "execution_count": null,
      "outputs": []
    },
    {
      "cell_type": "code",
      "metadata": {
        "colab": {
          "base_uri": "https://localhost:8080/"
        },
        "id": "RSy9AyOEKXAt",
        "outputId": "af17d5cc-d94a-4e7d-9b38-7bb812b0a44a"
      },
      "source": [
        "model = RandomForestClassifier(random_state=1, verbose=1)\n",
        "model.fit(X, y)"
      ],
      "execution_count": null,
      "outputs": [
        {
          "output_type": "stream",
          "name": "stderr",
          "text": [
            "[Parallel(n_jobs=1)]: Using backend SequentialBackend with 1 concurrent workers.\n",
            "[Parallel(n_jobs=1)]: Done 100 out of 100 | elapsed:    0.1s finished\n"
          ]
        },
        {
          "output_type": "execute_result",
          "data": {
            "text/plain": [
              "RandomForestClassifier(bootstrap=True, ccp_alpha=0.0, class_weight=None,\n",
              "                       criterion='gini', max_depth=None, max_features='auto',\n",
              "                       max_leaf_nodes=None, max_samples=None,\n",
              "                       min_impurity_decrease=0.0, min_impurity_split=None,\n",
              "                       min_samples_leaf=1, min_samples_split=2,\n",
              "                       min_weight_fraction_leaf=0.0, n_estimators=100,\n",
              "                       n_jobs=None, oob_score=False, random_state=1, verbose=1,\n",
              "                       warm_start=False)"
            ]
          },
          "metadata": {},
          "execution_count": 148
        }
      ]
    },
    {
      "cell_type": "code",
      "metadata": {
        "colab": {
          "base_uri": "https://localhost:8080/"
        },
        "id": "Nd2NErrAyuzJ",
        "outputId": "cb1fc988-e0ee-4b6a-fa27-2357f7a7f81e"
      },
      "source": [
        "from sklearn.cluster import KMeans\n",
        "kmeans = KMeans(n_clusters=2, random_state=0)\n",
        "\n",
        "kmeans.fit(X)"
      ],
      "execution_count": null,
      "outputs": [
        {
          "output_type": "execute_result",
          "data": {
            "text/plain": [
              "KMeans(algorithm='auto', copy_x=True, init='k-means++', max_iter=300,\n",
              "       n_clusters=2, n_init=10, n_jobs=None, precompute_distances='auto',\n",
              "       random_state=0, tol=0.0001, verbose=0)"
            ]
          },
          "metadata": {},
          "execution_count": 149
        }
      ]
    },
    {
      "cell_type": "code",
      "metadata": {
        "colab": {
          "base_uri": "https://localhost:8080/"
        },
        "id": "fPI-ypIaCvPM",
        "outputId": "4f9fa549-2316-402c-822d-919c05de74c6"
      },
      "source": [
        "kmeans.cluster_centers_"
      ],
      "execution_count": null,
      "outputs": [
        {
          "output_type": "execute_result",
          "data": {
            "text/plain": [
              "array([[ 4.43243243e-01,  4.77837838e-01,  4.92383292e-01,\n",
              "         6.14414414e-01,  4.68468468e-01,  4.45045045e-01,\n",
              "        -1.38777878e-15,  5.18918919e-01],\n",
              "       [ 5.41975309e-01,  3.86419753e-01,  4.43322110e-01,\n",
              "         5.22633745e-01,  3.74485597e-01,  2.51028807e-01,\n",
              "         1.00000000e+00,  4.83024691e-01]])"
            ]
          },
          "metadata": {},
          "execution_count": 150
        }
      ]
    },
    {
      "cell_type": "code",
      "metadata": {
        "colab": {
          "base_uri": "https://localhost:8080/"
        },
        "id": "TNGnHEmCCzy7",
        "outputId": "7721c793-e1ab-49da-f312-6664d51e3bb0"
      },
      "source": [
        "kmeans.inertia_"
      ],
      "execution_count": null,
      "outputs": [
        {
          "output_type": "execute_result",
          "data": {
            "text/plain": [
              "265.3767726567247"
            ]
          },
          "metadata": {},
          "execution_count": 151
        }
      ]
    },
    {
      "cell_type": "code",
      "metadata": {
        "colab": {
          "base_uri": "https://localhost:8080/"
        },
        "id": "ZzE71pYa7jZ3",
        "outputId": "a17f3891-3fab-4d67-857a-7f3b8c28fc00"
      },
      "source": [
        "labels = kmeans.labels_\n",
        "\n",
        "correct_labels = sum(y == labels)\n",
        "print(\"Result: %d out of %d samples were correctly labeled.\" % (correct_labels, y.size))"
      ],
      "execution_count": null,
      "outputs": [
        {
          "output_type": "stream",
          "name": "stdout",
          "text": [
            "Result: 73 out of 347 samples were correctly labeled.\n"
          ]
        }
      ]
    },
    {
      "cell_type": "code",
      "metadata": {
        "colab": {
          "base_uri": "https://localhost:8080/"
        },
        "id": "bu7JRPdcC5ra",
        "outputId": "d22c9468-8480-4597-fd0b-ae71c8afb58f"
      },
      "source": [
        "print('Accuracy score: {0:0.2f}'. format(correct_labels/float(y.size)))"
      ],
      "execution_count": null,
      "outputs": [
        {
          "output_type": "stream",
          "name": "stdout",
          "text": [
            "Accuracy score: 0.21\n"
          ]
        }
      ]
    },
    {
      "cell_type": "code",
      "metadata": {
        "colab": {
          "base_uri": "https://localhost:8080/",
          "height": 294
        },
        "id": "JW4CQIVhDPT0",
        "outputId": "01faf118-a576-47fa-b6c7-b1cc3bb4334e"
      },
      "source": [
        "from sklearn.cluster import KMeans\n",
        "cs = []\n",
        "for i in range(1, 11):\n",
        "    kmeans = KMeans(n_clusters = i, init = 'k-means++', max_iter = 300, n_init = 10, random_state = 0)\n",
        "    kmeans.fit(X)\n",
        "    cs.append(kmeans.inertia_)\n",
        "plt.plot(range(1, 11), cs)\n",
        "plt.title('The Elbow Method')\n",
        "plt.xlabel('Number of clusters')\n",
        "plt.ylabel('CS')\n",
        "plt.show()"
      ],
      "execution_count": null,
      "outputs": [
        {
          "output_type": "display_data",
          "data": {
            "image/png": "[encoded data removed]",
            "text/plain": [
              "<Figure size 432x288 with 1 Axes>"
            ]
          },
          "metadata": {
            "needs_background": "light"
          }
        }
      ]
    },
    {
      "cell_type": "code",
      "metadata": {
        "colab": {
          "base_uri": "https://localhost:8080/"
        },
        "id": "cswf387eU_Oy",
        "outputId": "4b0a3ccb-5fdf-483c-a355-2fbd203a3954"
      },
      "source": [
        "kmeans = KMeans(n_clusters=5, random_state=0)\n",
        "\n",
        "kmeans.fit(X)\n",
        "\n",
        "# check how many of the samples were correctly labeled\n",
        "labels = kmeans.labels_\n",
        "\n",
        "correct_labels = sum(y == labels)\n",
        "print(\"Result: %d out of %d samples were correctly labeled.\" % (correct_labels, y.size))\n",
        "print('Accuracy score: {0:0.2f}'. format(correct_labels/float(y.size)))"
      ],
      "execution_count": null,
      "outputs": [
        {
          "output_type": "stream",
          "name": "stdout",
          "text": [
            "Result: 91 out of 347 samples were correctly labeled.\n",
            "Accuracy score: 0.26\n"
          ]
        }
      ]
    },
    {
      "cell_type": "code",
      "metadata": {
        "colab": {
          "base_uri": "https://localhost:8080/",
          "height": 424
        },
        "id": "C6MTXApnYsIm",
        "outputId": "813a5cfc-5680-40a7-f09f-a403d5a6a601"
      },
      "source": [
        "df"
      ],
      "execution_count": null,
      "outputs": [
        {
          "output_type": "execute_result",
          "data": {
            "text/html": [
              "<div>\n",
              "<style scoped>\n",
              "    .dataframe tbody tr th:only-of-type {\n",
              "        vertical-align: middle;\n",
              "    }\n",
              "\n",
              "    .dataframe tbody tr th {\n",
              "        vertical-align: top;\n",
              "    }\n",
              "\n",
              "    .dataframe thead th {\n",
              "        text-align: right;\n",
              "    }\n",
              "</style>\n",
              "<table border=\"1\" class=\"dataframe\">\n",
              "  <thead>\n",
              "    <tr style=\"text-align: right;\">\n",
              "      <th></th>\n",
              "      <th>Type_Makanan</th>\n",
              "      <th>Code_Makanan</th>\n",
              "      <th>Amount_Makanan</th>\n",
              "      <th>Type_Minuman</th>\n",
              "      <th>Code_Minuman</th>\n",
              "      <th>Amount_Minuman</th>\n",
              "      <th>Gender</th>\n",
              "      <th>Payment</th>\n",
              "    </tr>\n",
              "  </thead>\n",
              "  <tbody>\n",
              "    <tr>\n",
              "      <th>0</th>\n",
              "      <td>2</td>\n",
              "      <td>1</td>\n",
              "      <td>6</td>\n",
              "      <td>2</td>\n",
              "      <td>1</td>\n",
              "      <td>3</td>\n",
              "      <td>1</td>\n",
              "      <td>0</td>\n",
              "    </tr>\n",
              "    <tr>\n",
              "      <th>1</th>\n",
              "      <td>3</td>\n",
              "      <td>3</td>\n",
              "      <td>12</td>\n",
              "      <td>1</td>\n",
              "      <td>2</td>\n",
              "      <td>10</td>\n",
              "      <td>0</td>\n",
              "      <td>0</td>\n",
              "    </tr>\n",
              "    <tr>\n",
              "      <th>2</th>\n",
              "      <td>0</td>\n",
              "      <td>4</td>\n",
              "      <td>10</td>\n",
              "      <td>2</td>\n",
              "      <td>1</td>\n",
              "      <td>5</td>\n",
              "      <td>0</td>\n",
              "      <td>2</td>\n",
              "    </tr>\n",
              "    <tr>\n",
              "      <th>3</th>\n",
              "      <td>4</td>\n",
              "      <td>2</td>\n",
              "      <td>9</td>\n",
              "      <td>3</td>\n",
              "      <td>3</td>\n",
              "      <td>9</td>\n",
              "      <td>0</td>\n",
              "      <td>0</td>\n",
              "    </tr>\n",
              "    <tr>\n",
              "      <th>4</th>\n",
              "      <td>5</td>\n",
              "      <td>6</td>\n",
              "      <td>11</td>\n",
              "      <td>1</td>\n",
              "      <td>2</td>\n",
              "      <td>3</td>\n",
              "      <td>1</td>\n",
              "      <td>0</td>\n",
              "    </tr>\n",
              "    <tr>\n",
              "      <th>...</th>\n",
              "      <td>...</td>\n",
              "      <td>...</td>\n",
              "      <td>...</td>\n",
              "      <td>...</td>\n",
              "      <td>...</td>\n",
              "      <td>...</td>\n",
              "      <td>...</td>\n",
              "      <td>...</td>\n",
              "    </tr>\n",
              "    <tr>\n",
              "      <th>342</th>\n",
              "      <td>2</td>\n",
              "      <td>1</td>\n",
              "      <td>4</td>\n",
              "      <td>0</td>\n",
              "      <td>4</td>\n",
              "      <td>1</td>\n",
              "      <td>0</td>\n",
              "      <td>3</td>\n",
              "    </tr>\n",
              "    <tr>\n",
              "      <th>343</th>\n",
              "      <td>1</td>\n",
              "      <td>5</td>\n",
              "      <td>2</td>\n",
              "      <td>0</td>\n",
              "      <td>4</td>\n",
              "      <td>3</td>\n",
              "      <td>1</td>\n",
              "      <td>3</td>\n",
              "    </tr>\n",
              "    <tr>\n",
              "      <th>344</th>\n",
              "      <td>2</td>\n",
              "      <td>1</td>\n",
              "      <td>10</td>\n",
              "      <td>1</td>\n",
              "      <td>2</td>\n",
              "      <td>2</td>\n",
              "      <td>1</td>\n",
              "      <td>1</td>\n",
              "    </tr>\n",
              "    <tr>\n",
              "      <th>345</th>\n",
              "      <td>2</td>\n",
              "      <td>1</td>\n",
              "      <td>8</td>\n",
              "      <td>2</td>\n",
              "      <td>1</td>\n",
              "      <td>5</td>\n",
              "      <td>0</td>\n",
              "      <td>4</td>\n",
              "    </tr>\n",
              "    <tr>\n",
              "      <th>346</th>\n",
              "      <td>1</td>\n",
              "      <td>5</td>\n",
              "      <td>2</td>\n",
              "      <td>3</td>\n",
              "      <td>3</td>\n",
              "      <td>5</td>\n",
              "      <td>1</td>\n",
              "      <td>3</td>\n",
              "    </tr>\n",
              "  </tbody>\n",
              "</table>\n",
              "<p>347 rows × 8 columns</p>\n",
              "</div>"
            ],
            "text/plain": [
              "     Type_Makanan  Code_Makanan  ...  Gender  Payment\n",
              "0               2             1  ...       1        0\n",
              "1               3             3  ...       0        0\n",
              "2               0             4  ...       0        2\n",
              "3               4             2  ...       0        0\n",
              "4               5             6  ...       1        0\n",
              "..            ...           ...  ...     ...      ...\n",
              "342             2             1  ...       0        3\n",
              "343             1             5  ...       1        3\n",
              "344             2             1  ...       1        1\n",
              "345             2             1  ...       0        4\n",
              "346             1             5  ...       1        3\n",
              "\n",
              "[347 rows x 8 columns]"
            ]
          },
          "metadata": {},
          "execution_count": 156
        }
      ]
    },
    {
      "cell_type": "markdown",
      "metadata": {
        "id": "HGjT5Ga9aQhh"
      },
      "source": [
        "# Decision Tree"
      ]
    },
    {
      "cell_type": "code",
      "metadata": {
        "colab": {
          "base_uri": "https://localhost:8080/"
        },
        "id": "Jfc7VEnrYtkc",
        "outputId": "920183a9-e0be-4818-f485-d5bf181d9044"
      },
      "source": [
        "df.columns"
      ],
      "execution_count": null,
      "outputs": [
        {
          "output_type": "execute_result",
          "data": {
            "text/plain": [
              "Index(['Type_Makanan', 'Code_Makanan', 'Amount_Makanan', 'Type_Minuman',\n",
              "       'Code_Minuman', 'Amount_Minuman', 'Gender', 'Payment'],\n",
              "      dtype='object')"
            ]
          },
          "metadata": {},
          "execution_count": 157
        }
      ]
    },
    {
      "cell_type": "code",
      "metadata": {
        "id": "HASvTlkKYvBX"
      },
      "source": [
        "#split dataset in features and target variable\n",
        "\n",
        "x = df.iloc[:, :7] # Features\n",
        "y = df.iloc[:, 6] # Target variable"
      ],
      "execution_count": null,
      "outputs": []
    },
    {
      "cell_type": "code",
      "metadata": {
        "colab": {
          "base_uri": "https://localhost:8080/"
        },
        "id": "15IB0AqRY5O1",
        "outputId": "658885ce-0706-46f2-c74d-05b14ef9949c"
      },
      "source": [
        "print(X, y)"
      ],
      "execution_count": null,
      "outputs": [
        {
          "output_type": "stream",
          "name": "stdout",
          "text": [
            "    Type_Makanan Code_Makanan Amount_Makanan  ... Amount_Minuman Gender Payment\n",
            "0            0.4          0.0       0.454545  ...       0.222222    1.0    0.00\n",
            "1            0.6          0.4       1.000000  ...       1.000000    0.0    0.00\n",
            "2            0.0          0.6       0.818182  ...       0.444444    0.0    0.50\n",
            "3            0.8          0.2       0.727273  ...       0.888889    0.0    0.00\n",
            "4            1.0          1.0       0.909091  ...       0.222222    1.0    0.00\n",
            "..           ...          ...            ...  ...            ...    ...     ...\n",
            "342          0.4          0.0       0.272727  ...       0.000000    0.0    0.75\n",
            "343          0.2          0.8       0.090909  ...       0.222222    1.0    0.75\n",
            "344          0.4          0.0       0.818182  ...       0.111111    1.0    0.25\n",
            "345          0.4          0.0       0.636364  ...       0.444444    0.0    1.00\n",
            "346          0.2          0.8       0.090909  ...       0.444444    1.0    0.75\n",
            "\n",
            "[347 rows x 8 columns] 0      1\n",
            "1      0\n",
            "2      0\n",
            "3      0\n",
            "4      1\n",
            "      ..\n",
            "342    0\n",
            "343    1\n",
            "344    1\n",
            "345    0\n",
            "346    1\n",
            "Name: Gender, Length: 347, dtype: int64\n"
          ]
        }
      ]
    },
    {
      "cell_type": "code",
      "metadata": {
        "id": "KnvzUbKRYU_z"
      },
      "source": [
        "# Split dataset into training set and test set\n",
        "X_train, X_test, y_train, y_test = train_test_split(X, y, test_size=0.2, random_state=42) # 80% training and 20% test"
      ],
      "execution_count": null,
      "outputs": []
    },
    {
      "cell_type": "code",
      "metadata": {
        "id": "YtOK4lS8YdYZ"
      },
      "source": [
        "# Create Decision Tree classifer object\n",
        "clf = DecisionTreeClassifier()\n",
        "\n",
        "# Train Decision Tree Classifer\n",
        "clf = clf.fit(X_train, y_train)\n",
        "\n",
        "#Predict the response for test dataset\n",
        "y_pred = clf.predict(X_test)"
      ],
      "execution_count": null,
      "outputs": []
    },
    {
      "cell_type": "code",
      "metadata": {
        "colab": {
          "base_uri": "https://localhost:8080/"
        },
        "id": "vkXTRsOvYf4z",
        "outputId": "d9a5a144-33ef-4702-dcfb-572a7c3a3869"
      },
      "source": [
        "# Model Accuracy, how often is the classifier correct?\n",
        "print(\"Accuracy:\",metrics.accuracy_score(y_test, y_pred))"
      ],
      "execution_count": null,
      "outputs": [
        {
          "output_type": "stream",
          "name": "stdout",
          "text": [
            "Accuracy: 1.0\n"
          ]
        }
      ]
    },
    {
      "cell_type": "code",
      "metadata": {
        "id": "rq5CAWfEmw1F",
        "colab": {
          "base_uri": "https://localhost:8080/"
        },
        "outputId": "c46277b9-a669-4cee-c43b-b32878adaca5"
      },
      "source": [
        "from sklearn.metrics import classification_report\n",
        "print(classification_report(y_test, y_pred))"
      ],
      "execution_count": null,
      "outputs": [
        {
          "output_type": "stream",
          "name": "stdout",
          "text": [
            "              precision    recall  f1-score   support\n",
            "\n",
            "           0       1.00      1.00      1.00        41\n",
            "           1       1.00      1.00      1.00        29\n",
            "\n",
            "    accuracy                           1.00        70\n",
            "   macro avg       1.00      1.00      1.00        70\n",
            "weighted avg       1.00      1.00      1.00        70\n",
            "\n"
          ]
        }
      ]
    },
    {
      "cell_type": "markdown",
      "metadata": {
        "id": "85cO7XGOZB-d"
      },
      "source": [
        "# Menggambar pohon keputusan"
      ]
    },
    {
      "cell_type": "code",
      "metadata": {
        "id": "lNzzR7p_ZEma"
      },
      "source": [
        "import pandas as pd\n",
        "import numpy as np\n",
        "from matplotlib import pyplot as plt\n",
        "from sklearn.cluster import AgglomerativeClustering\n",
        "import scipy.cluster.hierarchy as sch\n",
        "from sklearn.metrics import silhouette_score"
      ],
      "execution_count": null,
      "outputs": []
    },
    {
      "cell_type": "code",
      "metadata": {
        "id": "jJS55y-Kf6yr"
      },
      "source": [
        "data = pd.read_csv('makanan_tradisional.csv')"
      ],
      "execution_count": null,
      "outputs": []
    },
    {
      "cell_type": "code",
      "metadata": {
        "colab": {
          "base_uri": "https://localhost:8080/",
          "height": 206
        },
        "id": "oiEKdc3wgCvu",
        "outputId": "2064996c-42e1-4e4f-a9c1-b7eae6edc007"
      },
      "source": [
        "data.head()"
      ],
      "execution_count": null,
      "outputs": [
        {
          "output_type": "execute_result",
          "data": {
            "text/html": [
              "<div>\n",
              "<style scoped>\n",
              "    .dataframe tbody tr th:only-of-type {\n",
              "        vertical-align: middle;\n",
              "    }\n",
              "\n",
              "    .dataframe tbody tr th {\n",
              "        vertical-align: top;\n",
              "    }\n",
              "\n",
              "    .dataframe thead th {\n",
              "        text-align: right;\n",
              "    }\n",
              "</style>\n",
              "<table border=\"1\" class=\"dataframe\">\n",
              "  <thead>\n",
              "    <tr style=\"text-align: right;\">\n",
              "      <th></th>\n",
              "      <th>Timestamp</th>\n",
              "      <th>Type_Makanan</th>\n",
              "      <th>Code_Makanan</th>\n",
              "      <th>Amount_Makanan</th>\n",
              "      <th>Type_Minuman</th>\n",
              "      <th>Code_Minuman</th>\n",
              "      <th>Amount_Minuman</th>\n",
              "      <th>Gender</th>\n",
              "      <th>Payment</th>\n",
              "    </tr>\n",
              "  </thead>\n",
              "  <tbody>\n",
              "    <tr>\n",
              "      <th>0</th>\n",
              "      <td>10:01</td>\n",
              "      <td>Bakso kuah</td>\n",
              "      <td>1</td>\n",
              "      <td>6</td>\n",
              "      <td>Es teh</td>\n",
              "      <td>1</td>\n",
              "      <td>3</td>\n",
              "      <td>1</td>\n",
              "      <td>DANA</td>\n",
              "    </tr>\n",
              "    <tr>\n",
              "      <th>1</th>\n",
              "      <td>10:04</td>\n",
              "      <td>Mie ayam bakso</td>\n",
              "      <td>3</td>\n",
              "      <td>12</td>\n",
              "      <td>Es jeruk</td>\n",
              "      <td>2</td>\n",
              "      <td>10</td>\n",
              "      <td>0</td>\n",
              "      <td>DANA</td>\n",
              "    </tr>\n",
              "    <tr>\n",
              "      <th>2</th>\n",
              "      <td>10:05</td>\n",
              "      <td>Ayam bakar</td>\n",
              "      <td>4</td>\n",
              "      <td>10</td>\n",
              "      <td>Es teh</td>\n",
              "      <td>1</td>\n",
              "      <td>5</td>\n",
              "      <td>0</td>\n",
              "      <td>LINK AJA</td>\n",
              "    </tr>\n",
              "    <tr>\n",
              "      <th>3</th>\n",
              "      <td>10:06</td>\n",
              "      <td>Nasi goreng</td>\n",
              "      <td>2</td>\n",
              "      <td>9</td>\n",
              "      <td>Mineral water</td>\n",
              "      <td>3</td>\n",
              "      <td>9</td>\n",
              "      <td>0</td>\n",
              "      <td>DANA</td>\n",
              "    </tr>\n",
              "    <tr>\n",
              "      <th>4</th>\n",
              "      <td>10:07</td>\n",
              "      <td>Soto</td>\n",
              "      <td>6</td>\n",
              "      <td>11</td>\n",
              "      <td>Es jeruk</td>\n",
              "      <td>2</td>\n",
              "      <td>3</td>\n",
              "      <td>1</td>\n",
              "      <td>DANA</td>\n",
              "    </tr>\n",
              "  </tbody>\n",
              "</table>\n",
              "</div>"
            ],
            "text/plain": [
              "  Timestamp    Type_Makanan  Code_Makanan  ...  Amount_Minuman Gender   Payment\n",
              "0     10:01      Bakso kuah             1  ...               3      1      DANA\n",
              "1     10:04  Mie ayam bakso             3  ...              10      0      DANA\n",
              "2     10:05      Ayam bakar             4  ...               5      0  LINK AJA\n",
              "3     10:06     Nasi goreng             2  ...               9      0      DANA\n",
              "4     10:07            Soto             6  ...               3      1      DANA\n",
              "\n",
              "[5 rows x 9 columns]"
            ]
          },
          "metadata": {},
          "execution_count": 167
        }
      ]
    },
    {
      "cell_type": "code",
      "metadata": {
        "id": "PpBKdnp-gEev"
      },
      "source": [
        "X = df.iloc[:, [2, 5]].values"
      ],
      "execution_count": null,
      "outputs": []
    },
    {
      "cell_type": "code",
      "metadata": {
        "colab": {
          "base_uri": "https://localhost:8080/"
        },
        "id": "UrUp44jMgcYX",
        "outputId": "c9e949c8-d065-462b-8952-d8710395fa70"
      },
      "source": [
        "X"
      ],
      "execution_count": null,
      "outputs": [
        {
          "output_type": "execute_result",
          "data": {
            "text/plain": [
              "array([[ 6,  3],\n",
              "       [12, 10],\n",
              "       [10,  5],\n",
              "       [ 9,  9],\n",
              "       [11,  3],\n",
              "       [ 8,  4],\n",
              "       [ 7,  7],\n",
              "       [ 6,  3],\n",
              "       [ 5,  2],\n",
              "       [ 9,  9],\n",
              "       [11,  3],\n",
              "       [ 7,  7],\n",
              "       [11,  3],\n",
              "       [ 8, 10],\n",
              "       [ 7,  5],\n",
              "       [11,  9],\n",
              "       [ 1,  1],\n",
              "       [ 1,  1],\n",
              "       [ 1,  1],\n",
              "       [ 3,  3],\n",
              "       [ 9,  9],\n",
              "       [ 3,  3],\n",
              "       [ 5,  5],\n",
              "       [ 5,  5],\n",
              "       [ 1,  1],\n",
              "       [ 7,  2],\n",
              "       [12, 10],\n",
              "       [ 8,  4],\n",
              "       [ 7,  7],\n",
              "       [ 5,  2],\n",
              "       [ 7,  3],\n",
              "       [12, 10],\n",
              "       [10,  5],\n",
              "       [ 9,  9],\n",
              "       [ 3,  3],\n",
              "       [ 3,  3],\n",
              "       [ 1,  1],\n",
              "       [ 3,  3],\n",
              "       [ 9,  9],\n",
              "       [ 3,  3],\n",
              "       [ 5,  5],\n",
              "       [ 5,  5],\n",
              "       [ 5,  5],\n",
              "       [ 5,  5],\n",
              "       [ 1,  1],\n",
              "       [ 3,  3],\n",
              "       [ 6,  3],\n",
              "       [ 6,  3],\n",
              "       [ 5,  2],\n",
              "       [ 7,  2],\n",
              "       [12, 10],\n",
              "       [10,  5],\n",
              "       [ 9,  9],\n",
              "       [11,  3],\n",
              "       [ 8,  4],\n",
              "       [ 7,  7],\n",
              "       [11,  3],\n",
              "       [ 6,  3],\n",
              "       [ 5,  2],\n",
              "       [ 7,  2],\n",
              "       [12, 10],\n",
              "       [10,  5],\n",
              "       [ 9,  9],\n",
              "       [11,  3],\n",
              "       [ 8,  4],\n",
              "       [ 7,  7],\n",
              "       [11,  4],\n",
              "       [10,  3],\n",
              "       [ 9,  2],\n",
              "       [11,  3],\n",
              "       [ 8, 10],\n",
              "       [ 7,  5],\n",
              "       [11,  9],\n",
              "       [ 2,  2],\n",
              "       [ 1,  1],\n",
              "       [ 3,  3],\n",
              "       [ 1,  1],\n",
              "       [ 1,  1],\n",
              "       [ 1,  1],\n",
              "       [ 1,  1],\n",
              "       [ 1,  1],\n",
              "       [ 1,  1],\n",
              "       [ 1,  1],\n",
              "       [ 1,  1],\n",
              "       [ 1,  1],\n",
              "       [ 3,  3],\n",
              "       [ 3,  3],\n",
              "       [ 1,  1],\n",
              "       [ 3,  3],\n",
              "       [ 9,  9],\n",
              "       [ 3,  3],\n",
              "       [ 5,  5],\n",
              "       [ 5,  5],\n",
              "       [ 5,  5],\n",
              "       [ 5,  5],\n",
              "       [ 1,  1],\n",
              "       [ 3,  3],\n",
              "       [ 6,  3],\n",
              "       [ 5,  2],\n",
              "       [ 7,  3],\n",
              "       [12, 10],\n",
              "       [10,  5],\n",
              "       [ 9,  9],\n",
              "       [11,  3],\n",
              "       [ 8,  4],\n",
              "       [ 7,  7],\n",
              "       [11,  3],\n",
              "       [ 6,  3],\n",
              "       [ 5,  2],\n",
              "       [ 7,  2],\n",
              "       [12, 10],\n",
              "       [ 6,  3],\n",
              "       [ 5,  2],\n",
              "       [ 7,  4],\n",
              "       [12, 10],\n",
              "       [10,  5],\n",
              "       [ 9,  9],\n",
              "       [11,  3],\n",
              "       [ 8,  4],\n",
              "       [ 7,  7],\n",
              "       [11,  4],\n",
              "       [ 6,  3],\n",
              "       [ 5,  2],\n",
              "       [ 7,  3],\n",
              "       [12, 10],\n",
              "       [10,  5],\n",
              "       [ 9,  9],\n",
              "       [11,  3],\n",
              "       [ 8,  4],\n",
              "       [ 7,  7],\n",
              "       [11,  4],\n",
              "       [10,  3],\n",
              "       [ 9,  2],\n",
              "       [11,  4],\n",
              "       [ 8, 10],\n",
              "       [ 7,  5],\n",
              "       [11,  9],\n",
              "       [ 2,  2],\n",
              "       [ 1,  1],\n",
              "       [ 3,  3],\n",
              "       [ 2,  2],\n",
              "       [ 2,  2],\n",
              "       [ 2,  2],\n",
              "       [ 2,  2],\n",
              "       [ 1,  2],\n",
              "       [ 1,  1],\n",
              "       [ 1,  1],\n",
              "       [ 1,  1],\n",
              "       [ 1,  1],\n",
              "       [ 3,  3],\n",
              "       [ 3,  3],\n",
              "       [ 1,  1],\n",
              "       [ 3,  3],\n",
              "       [ 9,  9],\n",
              "       [ 3,  3],\n",
              "       [ 5,  5],\n",
              "       [ 5,  5],\n",
              "       [ 5,  5],\n",
              "       [ 5,  5],\n",
              "       [ 1,  1],\n",
              "       [ 3,  3],\n",
              "       [ 6,  3],\n",
              "       [ 5,  2],\n",
              "       [ 7,  3],\n",
              "       [12, 10],\n",
              "       [10,  5],\n",
              "       [ 9,  9],\n",
              "       [11,  3],\n",
              "       [ 8,  4],\n",
              "       [ 7,  7],\n",
              "       [11,  3],\n",
              "       [ 6,  3],\n",
              "       [ 5,  2],\n",
              "       [ 7,  3],\n",
              "       [12, 10],\n",
              "       [10,  5],\n",
              "       [ 9,  9],\n",
              "       [ 3,  3],\n",
              "       [ 3,  3],\n",
              "       [ 1,  1],\n",
              "       [ 3,  3],\n",
              "       [ 9,  9],\n",
              "       [ 3,  3],\n",
              "       [ 5,  5],\n",
              "       [ 5,  5],\n",
              "       [ 5,  5],\n",
              "       [ 5,  5],\n",
              "       [ 1,  1],\n",
              "       [ 3,  3],\n",
              "       [ 6,  3],\n",
              "       [ 6,  3],\n",
              "       [ 5,  2],\n",
              "       [ 7,  3],\n",
              "       [12, 10],\n",
              "       [10,  5],\n",
              "       [ 9,  9],\n",
              "       [11,  3],\n",
              "       [ 8,  4],\n",
              "       [ 7,  7],\n",
              "       [11,  3],\n",
              "       [ 6,  3],\n",
              "       [ 5,  2],\n",
              "       [ 7,  2],\n",
              "       [12, 10],\n",
              "       [10,  5],\n",
              "       [ 9,  9],\n",
              "       [11,  3],\n",
              "       [ 8,  4],\n",
              "       [ 7,  7],\n",
              "       [11,  3],\n",
              "       [10,  3],\n",
              "       [ 9,  2],\n",
              "       [11,  5],\n",
              "       [ 3,  3],\n",
              "       [ 3,  3],\n",
              "       [ 3,  3],\n",
              "       [ 3,  3],\n",
              "       [ 3,  3],\n",
              "       [ 3,  3],\n",
              "       [ 3,  3],\n",
              "       [ 3,  3],\n",
              "       [ 2,  2],\n",
              "       [ 1,  1],\n",
              "       [ 1,  1],\n",
              "       [ 1,  1],\n",
              "       [ 1,  1],\n",
              "       [ 1,  1],\n",
              "       [ 1,  1],\n",
              "       [ 3,  3],\n",
              "       [ 3,  3],\n",
              "       [ 1,  1],\n",
              "       [ 3,  3],\n",
              "       [ 9,  9],\n",
              "       [ 3,  3],\n",
              "       [ 5,  5],\n",
              "       [ 5,  5],\n",
              "       [ 5,  5],\n",
              "       [ 5,  5],\n",
              "       [ 1,  1],\n",
              "       [ 3,  3],\n",
              "       [ 6,  3],\n",
              "       [ 5,  2],\n",
              "       [ 7,  4],\n",
              "       [12, 10],\n",
              "       [10,  5],\n",
              "       [ 9,  9],\n",
              "       [11,  3],\n",
              "       [ 8,  4],\n",
              "       [ 7,  7],\n",
              "       [11,  3],\n",
              "       [ 6,  3],\n",
              "       [ 5,  2],\n",
              "       [ 7,  4],\n",
              "       [12, 10],\n",
              "       [10,  5],\n",
              "       [ 9,  9],\n",
              "       [ 3,  3],\n",
              "       [ 3,  3],\n",
              "       [ 1,  1],\n",
              "       [ 3,  3],\n",
              "       [ 9,  9],\n",
              "       [ 3,  3],\n",
              "       [ 5,  5],\n",
              "       [ 5,  5],\n",
              "       [ 5,  5],\n",
              "       [ 5,  5],\n",
              "       [ 1,  1],\n",
              "       [ 3,  3],\n",
              "       [ 6,  3],\n",
              "       [10,  5],\n",
              "       [ 9,  9],\n",
              "       [ 3,  3],\n",
              "       [ 3,  3],\n",
              "       [ 1,  1],\n",
              "       [ 3,  3],\n",
              "       [ 9,  9],\n",
              "       [ 3,  3],\n",
              "       [ 5,  5],\n",
              "       [ 5,  5],\n",
              "       [ 5,  5],\n",
              "       [ 5,  5],\n",
              "       [ 1,  1],\n",
              "       [ 3,  3],\n",
              "       [ 6,  3],\n",
              "       [ 6,  3],\n",
              "       [ 5,  2],\n",
              "       [ 7,  3],\n",
              "       [12, 10],\n",
              "       [10,  5],\n",
              "       [ 9,  9],\n",
              "       [11,  3],\n",
              "       [ 8,  4],\n",
              "       [ 7,  7],\n",
              "       [11,  3],\n",
              "       [ 6,  3],\n",
              "       [ 5,  2],\n",
              "       [ 7,  4],\n",
              "       [12, 10],\n",
              "       [10,  5],\n",
              "       [ 9,  9],\n",
              "       [11,  3],\n",
              "       [ 8,  4],\n",
              "       [ 7,  7],\n",
              "       [11,  3],\n",
              "       [10,  3],\n",
              "       [ 9,  2],\n",
              "       [11,  4],\n",
              "       [ 8, 10],\n",
              "       [ 7,  5],\n",
              "       [11,  9],\n",
              "       [ 2,  2],\n",
              "       [ 1,  1],\n",
              "       [ 3,  4],\n",
              "       [ 7,  2],\n",
              "       [ 5,  7],\n",
              "       [ 7,  4],\n",
              "       [ 9,  2],\n",
              "       [ 1,  4],\n",
              "       [ 2,  3],\n",
              "       [10,  3],\n",
              "       [ 1,  2],\n",
              "       [ 6,  5],\n",
              "       [ 5,  6],\n",
              "       [ 5,  9],\n",
              "       [ 9,  2],\n",
              "       [ 5,  2],\n",
              "       [ 4,  7],\n",
              "       [ 7,  4],\n",
              "       [ 5,  1],\n",
              "       [ 8,  8],\n",
              "       [ 6,  2],\n",
              "       [ 7,  9],\n",
              "       [ 4,  1],\n",
              "       [ 4,  3],\n",
              "       [ 4,  4],\n",
              "       [ 4,  5],\n",
              "       [ 5,  4],\n",
              "       [ 1,  3],\n",
              "       [ 7,  4],\n",
              "       [10,  1],\n",
              "       [ 3,  2],\n",
              "       [ 9,  2],\n",
              "       [ 4,  1],\n",
              "       [ 2,  3],\n",
              "       [10,  2],\n",
              "       [ 8,  5],\n",
              "       [ 2,  5]])"
            ]
          },
          "metadata": {},
          "execution_count": 169
        }
      ]
    },
    {
      "cell_type": "code",
      "metadata": {
        "colab": {
          "base_uri": "https://localhost:8080/",
          "height": 265
        },
        "id": "VvsUnIIag5G4",
        "outputId": "82e32214-f52c-4c3d-e5e8-97265bca21b4"
      },
      "source": [
        "dendrogram = sch.dendrogram(sch.linkage(X, method='complete'))"
      ],
      "execution_count": null,
      "outputs": [
        {
          "output_type": "display_data",
          "data": {
            "image/png": "[encoded data removed]",
            "text/plain": [
              "<Figure size 432x288 with 1 Axes>"
            ]
          },
          "metadata": {
            "needs_background": "light"
          }
        }
      ]
    },
    {
      "cell_type": "code",
      "metadata": {
        "id": "nbeOHdaohCUl"
      },
      "source": [
        "model = AgglomerativeClustering(n_clusters=5, affinity='euclidean', linkage='complete')\n",
        "model.fit(X)\n",
        "labels = model.labels_"
      ],
      "execution_count": null,
      "outputs": []
    },
    {
      "cell_type": "code",
      "metadata": {
        "colab": {
          "base_uri": "https://localhost:8080/"
        },
        "id": "gXh0SkX-hGKI",
        "outputId": "af0b76d2-73fc-4aed-a6a4-a6df7d804c0e"
      },
      "source": [
        "labels"
      ],
      "execution_count": null,
      "outputs": [
        {
          "output_type": "execute_result",
          "data": {
            "text/plain": [
              "array([2, 3, 4, 0, 4, 2, 0, 2, 1, 0, 4, 0, 4, 0, 2, 3, 1, 1, 1, 1, 0, 1,\n",
              "       2, 2, 1, 2, 3, 2, 0, 1, 2, 3, 4, 0, 1, 1, 1, 1, 0, 1, 2, 2, 2, 2,\n",
              "       1, 1, 2, 2, 1, 2, 3, 4, 0, 4, 2, 0, 4, 2, 1, 2, 3, 4, 0, 4, 2, 0,\n",
              "       4, 4, 4, 4, 0, 2, 3, 1, 1, 1, 1, 1, 1, 1, 1, 1, 1, 1, 1, 1, 1, 1,\n",
              "       1, 0, 1, 2, 2, 2, 2, 1, 1, 2, 1, 2, 3, 4, 0, 4, 2, 0, 4, 2, 1, 2,\n",
              "       3, 2, 1, 2, 3, 4, 0, 4, 2, 0, 4, 2, 1, 2, 3, 4, 0, 4, 2, 0, 4, 4,\n",
              "       4, 4, 0, 2, 3, 1, 1, 1, 1, 1, 1, 1, 1, 1, 1, 1, 1, 1, 1, 1, 1, 0,\n",
              "       1, 2, 2, 2, 2, 1, 1, 2, 1, 2, 3, 4, 0, 4, 2, 0, 4, 2, 1, 2, 3, 4,\n",
              "       0, 1, 1, 1, 1, 0, 1, 2, 2, 2, 2, 1, 1, 2, 2, 1, 2, 3, 4, 0, 4, 2,\n",
              "       0, 4, 2, 1, 2, 3, 4, 0, 4, 2, 0, 4, 4, 4, 4, 1, 1, 1, 1, 1, 1, 1,\n",
              "       1, 1, 1, 1, 1, 1, 1, 1, 1, 1, 1, 1, 0, 1, 2, 2, 2, 2, 1, 1, 2, 1,\n",
              "       2, 3, 4, 0, 4, 2, 0, 4, 2, 1, 2, 3, 4, 0, 1, 1, 1, 1, 0, 1, 2, 2,\n",
              "       2, 2, 1, 1, 2, 4, 0, 1, 1, 1, 1, 0, 1, 2, 2, 2, 2, 1, 1, 2, 2, 1,\n",
              "       2, 3, 4, 0, 4, 2, 0, 4, 2, 1, 2, 3, 4, 0, 4, 2, 0, 4, 4, 4, 4, 0,\n",
              "       2, 3, 1, 1, 1, 2, 0, 2, 4, 1, 1, 4, 1, 2, 0, 0, 4, 1, 0, 2, 1, 0,\n",
              "       2, 0, 1, 1, 2, 2, 2, 1, 2, 4, 1, 4, 1, 1, 4, 2, 1])"
            ]
          },
          "metadata": {},
          "execution_count": 172
        }
      ]
    },
    {
      "cell_type": "code",
      "metadata": {
        "colab": {
          "base_uri": "https://localhost:8080/",
          "height": 265
        },
        "id": "lAgMLE-NhHDr",
        "outputId": "2d13e0dd-3b81-4614-c4f2-e5f2e85b2720"
      },
      "source": [
        "plt.scatter(X[labels==0, 0], X[labels==0, 1], s=50, marker='o', color='red')\n",
        "plt.scatter(X[labels==1, 0], X[labels==1, 1], s=50, marker='o', color='blue')\n",
        "plt.scatter(X[labels==2, 0], X[labels==2, 1], s=50, marker='o', color='green')\n",
        "plt.scatter(X[labels==3, 0], X[labels==3, 1], s=50, marker='o', color='purple')\n",
        "plt.scatter(X[labels==4, 0], X[labels==4, 1], s=50, marker='o', color='orange')\n",
        "plt.show()"
      ],
      "execution_count": null,
      "outputs": [
        {
          "output_type": "display_data",
          "data": {
            "image/png": "[encoded data removed]",
            "text/plain": [
              "<Figure size 432x288 with 1 Axes>"
            ]
          },
          "metadata": {
            "needs_background": "light"
          }
        }
      ]
    },
    {
      "cell_type": "code",
      "metadata": {
        "id": "vHfQOSSOhNHB"
      },
      "source": [
        "score = silhouette_score(X, labels, metric='euclidean')"
      ],
      "execution_count": null,
      "outputs": []
    },
    {
      "cell_type": "code",
      "metadata": {
        "colab": {
          "base_uri": "https://localhost:8080/"
        },
        "id": "dCT8ueulhOcd",
        "outputId": "caa5f599-5960-4dcb-b307-a5d18839db0e"
      },
      "source": [
        "# Mencari Metode Linkage terbaik\n",
        "score=[]\n",
        "linkages = ['complete', 'single', 'average']\n",
        "for linkage in linkages:\n",
        "  model = AgglomerativeClustering(n_clusters=5, affinity='euclidean', linkage=linkage)\n",
        "  model.fit(X)\n",
        "  labels = model.labels_\n",
        "  score.append(silhouette_score(X, labels, metric='euclidean'))\n",
        "\n",
        "print(score)\n",
        "print(\"Nilai Silhouette Score Terbaik : \", max(score), \"\\nMenggunakan Metode = \", linkages[score.index(max(score))])"
      ],
      "execution_count": null,
      "outputs": [
        {
          "output_type": "stream",
          "name": "stdout",
          "text": [
            "[0.5414118292721793, 0.4776069351854534, 0.5633314636426858]\n",
            "Nilai Silhouette Score Terbaik :  0.5633314636426858 \n",
            "Menggunakan Metode =  average\n"
          ]
        }
      ]
    },
    {
      "cell_type": "code",
      "metadata": {
        "colab": {
          "base_uri": "https://localhost:8080/"
        },
        "id": "GVcpsbIVhSWf",
        "outputId": "dc88f50e-01d2-4701-c7ee-c40c86adb4e9"
      },
      "source": [
        "# Mencari Jumlah Cluster terbaik\n",
        "score=[]\n",
        "for i in range(2, 7):\n",
        "  model = AgglomerativeClustering(n_clusters=i, affinity='euclidean', linkage='complete')\n",
        "  model.fit(X)\n",
        "  labels = model.labels_\n",
        "  score.append(silhouette_score(X, labels, metric='euclidean'))\n",
        "\n",
        "print(score)\n",
        "print(\"Nilai Silhouette Score Terbaik : \", max(score), \"\\nKetika Cluster = \", score.index(max(score))+2)"
      ],
      "execution_count": null,
      "outputs": [
        {
          "output_type": "stream",
          "name": "stdout",
          "text": [
            "[0.45756757174923346, 0.4904574515713364, 0.4997312410437628, 0.5414118292721793, 0.5157540170170046]\n",
            "Nilai Silhouette Score Terbaik :  0.5414118292721793 \n",
            "Ketika Cluster =  5\n"
          ]
        }
      ]
    }
  ]
}