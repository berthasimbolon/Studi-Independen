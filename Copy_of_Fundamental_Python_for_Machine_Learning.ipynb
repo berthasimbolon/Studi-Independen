{
  "nbformat": 4,
  "nbformat_minor": 0,
  "metadata": {
    "colab": {
      "name": "Copy of Fundamental Python for Machine Learning.ipynb",
      "provenance": [],
      "collapsed_sections": [],
      "include_colab_link": true
    },
    "kernelspec": {
      "name": "python3",
      "display_name": "Python 3"
    },
    "language_info": {
      "name": "python"
    }
  },
  "cells": [
    {
      "cell_type": "markdown",
      "metadata": {
        "id": "view-in-github",
        "colab_type": "text"
      },
      "source": [
        "<a href=\"https://colab.research.google.com/github/berthasimbolon/Studi-Independen/blob/main/Copy_of_Fundamental_Python_for_Machine_Learning.ipynb\" target=\"_parent\"><img src=\"https://colab.research.google.com/assets/colab-badge.svg\" alt=\"Open In Colab\"/></a>"
      ]
    },
    {
      "cell_type": "markdown",
      "metadata": {
        "id": "f_zNldobOR7p"
      },
      "source": [
        "# **Aturan Penulisan Statement Pada *Basic Python***\n",
        "1. Penulisan satu statement di dalam Python tidak diakhiri dengan tanda titik-koma\n",
        "2. Statement pada Pyhton dinyatakan dalam satu baris. Jadi akhir dari sebuah pernyataan adalah baris baru (new line).\n",
        "3. Jika ada pernyataan yang panjangnya terdiri lebih dari 1 baris, maka dapat dilakukan dengan menggunakan tanda backslash (\\).\n",
        "4. Statement yang ada di dalam atau diapit oleh tanda kurung seperti \"[],{},()\" tidak memerlukan tanda \"\".\n",
        "5. Python menggunakan tanda indentasi (spasi) sebagai penanda blok. Panjang spasi atau indentasi untuk setiap baris yang ada dalam satu blok kode harus sama. Bila spasi atau indentasi dalam satu grup kode tersebut tidak sama, python akan menamplikan sintaks error.\n",
        "6. Sebaga penanda string, Python menggunakan tanda kutip, baik tunggal ('), maupun ganda(\"). Tanda kutip tiga(\"\"\") digunakan untuk string multibaris.\n",
        "7. Bahasa Python bersifat case sensitif, yang berarti membedakan huruf besar dan huruf kecil (memiliki nilai yang berbeda).\n",
        "8. Untuk komentar di awali dengan tanda \"#\" yang artinya tidak diproses sebagai statement code."
      ]
    },
    {
      "cell_type": "markdown",
      "metadata": {
        "id": "l99P8Enspz3_"
      },
      "source": [
        "**Aturan yang pertama**\n",
        "1. Penulisan satu statement di dalam Python tidak diakhiri dengan tanda titik-koma"
      ]
    },
    {
      "cell_type": "code",
      "metadata": {
        "id": "iDpN1BZeN8Wo",
        "colab": {
          "base_uri": "https://localhost:8080/"
        },
        "outputId": "bd5f83ad-b746-42b6-c3b7-adab5d071414"
      },
      "source": [
        "#print(\"Halo Dunia!\")\n",
        "#print(\"panjang = 100\")\n",
        "print(\"lebar = 23\")\n",
        "print('saya suka belajar python')"
      ],
      "execution_count": null,
      "outputs": [
        {
          "output_type": "stream",
          "name": "stdout",
          "text": [
            "lebar = 23\n",
            "saya suka belajar python\n"
          ]
        }
      ]
    },
    {
      "cell_type": "markdown",
      "metadata": {
        "id": "4uqB0sRjruek"
      },
      "source": [
        "**Aturan yang kedua**\n",
        "2. Statement pada Pyhton dinyatakan dalam satu baris. Jadi akhir dari sebuah pernyataan adalah baris baru (new line)."
      ]
    },
    {
      "cell_type": "code",
      "metadata": {
        "colab": {
          "base_uri": "https://localhost:8080/"
        },
        "id": "a0OFpWYUsqs7",
        "outputId": "e7b52825-a3bb-488d-b5bb-6ef287d8b754"
      },
      "source": [
        "print(\"luas = panjang * lebar\")"
      ],
      "execution_count": null,
      "outputs": [
        {
          "output_type": "stream",
          "name": "stdout",
          "text": [
            "luas = panjang * lebar\n"
          ]
        }
      ]
    },
    {
      "cell_type": "markdown",
      "metadata": {
        "id": "0l4oRzVks5Gx"
      },
      "source": [
        "**Aturan yang ke tiga**\n",
        "--\n",
        "\n",
        "\n",
        "---\n",
        "3. Jika ada pernyataan yang panjangnya terdiri lebih dari 1 baris, maka dapat dilakukan dengan menggunakan tanda backslash ( \\ ) .\n"
      ]
    },
    {
      "cell_type": "code",
      "metadata": {
        "colab": {
          "base_uri": "https://localhost:8080/"
        },
        "id": "CDwFgmL7uobq",
        "outputId": "5dd836f4-adcf-4bd1-cd1c-7168eb4e2828"
      },
      "source": [
        "print(\"volume = panjang * lebar *\\\n",
        "tinggi\")\n"
      ],
      "execution_count": null,
      "outputs": [
        {
          "output_type": "stream",
          "text": [
            "volume = panjang * lebar *tinggi\n"
          ],
          "name": "stdout"
        }
      ]
    },
    {
      "cell_type": "markdown",
      "metadata": {
        "id": "o-Bcz5emxuDb"
      },
      "source": [
        "**Aturan yang ke empat**\n",
        "\n",
        "---\n",
        "4. Statement yang ada di dalam atau diapit oleh tanda kurung seperti \"[],{},()\" tidak memerlukan tanda \"\"\n"
      ]
    },
    {
      "cell_type": "code",
      "metadata": {
        "colab": {
          "base_uri": "https://localhost:8080/"
        },
        "id": "cH2zn63Y04DK",
        "outputId": "adb41152-aa0b-4a12-d727-dfd5144d4b1c"
      },
      "source": [
        "nama_hari = ['Senin','Selasa','Rabu','Kamis','Jumat','Sabtu']\n",
        "print(nama_hari)"
      ],
      "execution_count": null,
      "outputs": [
        {
          "output_type": "stream",
          "text": [
            "['Senin', 'Selasa', 'Rabu', 'Kamis', 'Jumat', 'Sabtu']\n"
          ],
          "name": "stdout"
        }
      ]
    },
    {
      "cell_type": "markdown",
      "metadata": {
        "id": "GxWpA9s41Mgb"
      },
      "source": [
        "**Aturan yang ke lima**\n",
        "\n",
        "---\n",
        "5. Python menggunakan tanda indentasi (spasi) sebagai penanda blok. Panjang spasi atau indentasi untuk setiap baris yang ada dalam satu blok kode harus sama. Bila spasi atau indentasi dalam satu grup kode tersebut tidak sama, python akan menamplikan sintaks error"
      ]
    },
    {
      "cell_type": "code",
      "metadata": {
        "colab": {
          "base_uri": "https://localhost:8080/"
        },
        "id": "0XecJxa71u9t",
        "outputId": "3ab2de04-d7e9-4d64-e21e-95a8b94155d7"
      },
      "source": [
        "usia = 7\n",
        "if usia >= 7:\n",
        "    print(\"diterima masuk SD\")\n",
        "    print(\"dinyatakan lulus\")\n",
        "else:\n",
        "    print(\"tidak diterima masuk SD\")\n",
        "    print(\"dinyatakan gagal\")"
      ],
      "execution_count": null,
      "outputs": [
        {
          "output_type": "stream",
          "text": [
            "diterima masuk SD\n",
            "dinyatakan lulus\n"
          ],
          "name": "stdout"
        }
      ]
    },
    {
      "cell_type": "markdown",
      "metadata": {
        "id": "-CwfHmhZ18N0"
      },
      "source": [
        "**Aturan yang ke enam**\n",
        "\n",
        "---\n",
        "6. Sebaga penanda string, Python menggunakan tanda kutip, baik tunggal ('), maupun ganda(\"). Tanda kutip tiga(\"\"\") digunakan untuk string multibaris."
      ]
    },
    {
      "cell_type": "code",
      "metadata": {
        "colab": {
          "base_uri": "https://localhost:8080/"
        },
        "id": "oBP4u9P22Ldi",
        "outputId": "ff6c1d02-cd1a-4535-f696-932f683d7f39"
      },
      "source": [
        "namadepan = 'Alvin'\n",
        "namalengap = \"Alvin Agusta Wahyono\"\n",
        "alinea = \"\"\"Berikut ini adalah alinea\n",
        "yang terdiri dari beberapa baris.\"\"\"\n",
        "print(namadepan)\n",
        "print(namalengap)\n",
        "print(alinea)\n"
      ],
      "execution_count": null,
      "outputs": [
        {
          "output_type": "stream",
          "name": "stdout",
          "text": [
            "Alvin\n",
            "Alvin Agusta Wahyono\n",
            "Berikut ini adalah alinea\n",
            "yang terdiri dari beberapa baris.\n"
          ]
        }
      ]
    },
    {
      "cell_type": "markdown",
      "metadata": {
        "id": "KcoQbqfc2jxZ"
      },
      "source": [
        "**Aturan yang ke tuju**\n",
        "\n",
        "---\n",
        "7. Bahasa Python bersifat case sensitif, yang berarti membedakan huruf besar dan huruf kecil (memiliki nilai yang berbeda)."
      ]
    },
    {
      "cell_type": "code",
      "metadata": {
        "colab": {
          "base_uri": "https://localhost:8080/"
        },
        "id": "BhhoyOUr3Yi0",
        "outputId": "e8b585ac-e181-4c01-8ab0-291aac3d2c21"
      },
      "source": [
        "# Contoh statement yang benar\n",
        "luas = 15*3\n",
        "print(luas)\n",
        "\n",
        "# Contoh statement yang salah\n",
        "luas = 15*3\n",
        "#Print(luas)\n",
        "#PRINT(luas)\n",
        "print(luas)"
      ],
      "execution_count": null,
      "outputs": [
        {
          "output_type": "stream",
          "name": "stdout",
          "text": [
            "45\n",
            "45\n"
          ]
        }
      ]
    },
    {
      "cell_type": "markdown",
      "metadata": {
        "id": "uIWYt5v63m6D"
      },
      "source": [
        "**Aturan yang ke delapan**\n",
        "\n",
        "---\n",
        "8. Untuk komentar di awali dengan tanda \"#\" yang artinya tidak diproses sebagai statement code."
      ]
    },
    {
      "cell_type": "code",
      "metadata": {
        "colab": {
          "base_uri": "https://localhost:8080/"
        },
        "id": "W0c-Ej176GBX",
        "outputId": "a5ebeb34-b45e-48a2-9405-bf8966d1ed9e"
      },
      "source": [
        "# Contoh\n",
        "# perintah untuk menghitung luas\n",
        "panjang = 15\n",
        "lebar = 3\n",
        "luas = (panjang*lebar)\n",
        "print(luas)\n"
      ],
      "execution_count": null,
      "outputs": [
        {
          "output_type": "stream",
          "name": "stdout",
          "text": [
            "45\n"
          ]
        }
      ]
    }
  ]
}